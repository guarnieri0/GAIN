{
  "nbformat": 4,
  "nbformat_minor": 0,
  "metadata": {
    "colab": {
      "name": "univariate_LSTM.ipynb",
      "provenance": [],
      "collapsed_sections": [],
      "authorship_tag": "ABX9TyP6/qB2tWdxUNYm39ufD+EC",
      "include_colab_link": true
    },
    "kernelspec": {
      "name": "python3",
      "display_name": "Python 3"
    },
    "language_info": {
      "name": "python"
    }
  },
  "cells": [
    {
      "cell_type": "markdown",
      "metadata": {
        "id": "view-in-github",
        "colab_type": "text"
      },
      "source": [
        "<a href=\"https://colab.research.google.com/github/guarnieri0/GAIN/blob/master/univariate_LSTM.ipynb\" target=\"_parent\"><img src=\"https://colab.research.google.com/assets/colab-badge.svg\" alt=\"Open In Colab\"/></a>"
      ]
    },
    {
      "cell_type": "code",
      "metadata": {
        "id": "g-tIdoCoxvMI"
      },
      "source": [
        "from pandas_datareader import data\n",
        "import matplotlib.pyplot as plt\n",
        "import pandas as pd\n",
        "import datetime as dt\n",
        "import os\n",
        "import numpy\n",
        "\n",
        "import tensorflow as tf # This code has been tested with TensorFlow 1.6\n",
        "from sklearn.preprocessing import MinMaxScaler\n",
        "from tensorflow import keras\n",
        "import math\n",
        "from keras.models import Sequential\n",
        "from keras.layers import Dense\n",
        "from keras.layers import LSTM\n",
        "\n",
        "from sklearn.metrics import mean_squared_error"
      ],
      "execution_count": null,
      "outputs": []
    },
    {
      "cell_type": "code",
      "metadata": {
        "id": "d3wasO3woKbl",
        "colab": {
          "base_uri": "https://localhost:8080/"
        },
        "outputId": "b586fba6-4f6b-494d-d3b0-15bb477d7365"
      },
      "source": [
        "df = pd.read_excel(r'/content/WTG_#11_30%_miss.xlsx')\n",
        "df['Time']=pd.to_datetime(df['Time'])\n",
        "#df.drop(['No.','Avg Wind Speed(m/s)','Avg  Reactive Power (kVar)','Energy Yield(kWh)','Avg Yaw Position(deg)','Unnamed: 0'], inplace=True, axis=1)\n",
        "#df.drop(['No.','Avg Wind Speed(m/s)','Avg  Reactive Power (kVar)','Energy Yield(kWh)','Avg Yaw Position(deg)'], inplace=True, axis=1)\n",
        "df.drop(['Avg Wind Speed(m/s)','Avg  Reactive Power (kVar)','Energy Yield(kWh)','Avg Yaw Position(deg)'], inplace=True, axis=1)\n",
        "df = df.set_index('Time')\n",
        "print(df.info())\n",
        "print(df.head())\n",
        "long_dat=len(df)\n",
        "df1=df.iloc[:long_dat,:]\n",
        "print(df1.head())\n",
        "df1[df1 < 0] = 0\n"
      ],
      "execution_count": null,
      "outputs": [
        {
          "output_type": "stream",
          "name": "stdout",
          "text": [
            "<class 'pandas.core.frame.DataFrame'>\n",
            "DatetimeIndex: 52028 entries, 2018-01-01 00:00:00 to 2018-12-31 23:50:00\n",
            "Data columns (total 1 columns):\n",
            " #   Column                 Non-Null Count  Dtype  \n",
            "---  ------                 --------------  -----  \n",
            " 0   Avg Active Power (kW)  36034 non-null  float64\n",
            "dtypes: float64(1)\n",
            "memory usage: 812.9 KB\n",
            "None\n",
            "                     Avg Active Power (kW)\n",
            "Time                                      \n",
            "2018-01-01 00:00:00                  62.12\n",
            "2018-01-01 00:10:00                    NaN\n",
            "2018-01-01 00:20:00                  24.94\n",
            "2018-01-01 00:30:00                  25.79\n",
            "2018-01-01 00:40:00                  42.33\n",
            "                     Avg Active Power (kW)\n",
            "Time                                      \n",
            "2018-01-01 00:00:00                  62.12\n",
            "2018-01-01 00:10:00                    NaN\n",
            "2018-01-01 00:20:00                  24.94\n",
            "2018-01-01 00:30:00                  25.79\n",
            "2018-01-01 00:40:00                  42.33\n"
          ]
        }
      ]
    },
    {
      "cell_type": "code",
      "source": [
        ""
      ],
      "metadata": {
        "id": "GvYXLNlZU7CE"
      },
      "execution_count": null,
      "outputs": []
    },
    {
      "cell_type": "code",
      "metadata": {
        "id": "XZYwo2MzkQeF"
      },
      "source": [
        "#IMPUTATION\n",
        "#from missingpy import MissForest\n",
        "\n",
        "\n",
        "df1.fillna(df1.mean(),inplace=True)\n",
        "\n",
        "#df1.interpolate(method ='linear', limit_direction ='forward',inplace = True)\n",
        "\n",
        "#df1.dropna(inplace=True)\n",
        "\n",
        "#df1.isna().sum()\n",
        "\n",
        "\n"
      ],
      "execution_count": null,
      "outputs": []
    },
    {
      "cell_type": "code",
      "metadata": {
        "colab": {
          "base_uri": "https://localhost:8080/"
        },
        "id": "ZGktEFrHuOhm",
        "outputId": "00b84cae-063a-4bee-ba07-b95d1e25b93a"
      },
      "source": [
        "print(df1.loc['2018-12-01 00:00:00':'2018-12-01 12:50:00'])\n",
        "print(df1.isna().sum())\n",
        "#df1['Avg Active Power (kW)'] = X_imput[:,3]\n",
        "#df1.drop(['No.','Avg Wind Speed(m/s)','Avg  Reactive Power (kVar)','Energy Yield(kWh)','Avg Yaw Position(deg)','Unnamed: 0'], inplace=True, axis=1)\n",
        "#print(df1)"
      ],
      "execution_count": null,
      "outputs": [
        {
          "output_type": "stream",
          "name": "stdout",
          "text": [
            "                     Avg Active Power (kW)\n",
            "Time                                      \n",
            "2018-12-01 00:00:00                  66.32\n",
            "2018-12-01 00:10:00                 101.33\n",
            "2018-12-01 00:20:00                 119.65\n",
            "2018-12-01 00:30:00                 101.57\n",
            "2018-12-01 00:40:00                  41.80\n",
            "...                                    ...\n",
            "2018-12-01 12:10:00                 236.61\n",
            "2018-12-01 12:20:00                 267.31\n",
            "2018-12-01 12:30:00                 329.02\n",
            "2018-12-01 12:40:00                 276.00\n",
            "2018-12-01 12:50:00                 367.94\n",
            "\n",
            "[78 rows x 1 columns]\n",
            "Avg Active Power (kW)    0\n",
            "dtype: int64\n"
          ]
        }
      ]
    },
    {
      "cell_type": "code",
      "metadata": {
        "id": "Fkhk3AzMe8YJ"
      },
      "source": [
        "#Questa funzione, ipotizzando len(dataset) = 5000, parte da 4996 e va a ricopiare il timestep 4996-4997-4998 (perchè lookback = 3) mentre il 4999 viene ricopiato in y \n",
        "# ottengo una cosa del tipo (x(4996) , x(4997) , x(4998)) -> y(4999)\n",
        "\n",
        "\n",
        "def create_dataset(dataset, look_back=1):\n",
        "\tdataX, dataY = [], []\n",
        "\tfor i in range(len(dataset)-look_back-1):\n",
        "\t\ta = dataset[i:(i+look_back), 0]\n",
        "\t\tdataX.append(a)\n",
        "\t\tdataY.append(dataset[i + look_back, 0])\n",
        "\treturn numpy.array(dataX), numpy.array(dataY)"
      ],
      "execution_count": null,
      "outputs": []
    },
    {
      "cell_type": "code",
      "metadata": {
        "colab": {
          "base_uri": "https://localhost:8080/"
        },
        "id": "Xxb-Co4khVQK",
        "outputId": "26c32f44-b5d2-4dd0-fc38-eef0fc70a021"
      },
      "source": [
        "dataset = df1.values\n",
        "print(len(dataset))\n",
        "scaler = MinMaxScaler(feature_range=(0, 1))\n",
        "dataset = scaler.fit_transform(dataset)"
      ],
      "execution_count": null,
      "outputs": [
        {
          "output_type": "stream",
          "name": "stdout",
          "text": [
            "52028\n"
          ]
        }
      ]
    },
    {
      "cell_type": "code",
      "metadata": {
        "colab": {
          "base_uri": "https://localhost:8080/"
        },
        "id": "kv6jvyI_hf2R",
        "outputId": "2ba1c9fc-e544-48dc-b5a9-6530e888c9e7"
      },
      "source": [
        "train_size = int(len(dataset) * 0.67)\n",
        "test_size = len(dataset) - train_size\n",
        "train, test = dataset[0:train_size,:], dataset[train_size:len(dataset),:]\n",
        "print(len(train))\n",
        "print(len(test))"
      ],
      "execution_count": null,
      "outputs": [
        {
          "output_type": "stream",
          "name": "stdout",
          "text": [
            "34858\n",
            "17170\n"
          ]
        }
      ]
    },
    {
      "cell_type": "code",
      "metadata": {
        "id": "XT8_CfxhhvQv",
        "colab": {
          "base_uri": "https://localhost:8080/"
        },
        "outputId": "ea5e7f7d-0530-4eb3-8219-0c52bb5fdb1e"
      },
      "source": [
        "look_back = 3\n",
        "trainX, trainY = create_dataset(train, look_back)\n",
        "testX, testY = create_dataset(test, look_back)\n",
        "print(trainX.shape), print(trainY.shape)"
      ],
      "execution_count": null,
      "outputs": [
        {
          "output_type": "stream",
          "name": "stdout",
          "text": [
            "(34854, 3)\n",
            "(34854,)\n"
          ]
        },
        {
          "output_type": "execute_result",
          "data": {
            "text/plain": [
              "(None, None)"
            ]
          },
          "metadata": {},
          "execution_count": 1348
        }
      ]
    },
    {
      "cell_type": "code",
      "metadata": {
        "colab": {
          "base_uri": "https://localhost:8080/"
        },
        "id": "oEV_H3eGWKRH",
        "outputId": "4a1eeaf6-fc6e-406d-9846-5f000aa4564d"
      },
      "source": [
        "print(trainX)\n",
        "print(trainY)"
      ],
      "execution_count": null,
      "outputs": [
        {
          "output_type": "stream",
          "name": "stdout",
          "text": [
            "[[0.04016241 0.40060832 0.01612444]\n",
            " [0.40060832 0.01612444 0.01667399]\n",
            " [0.01612444 0.01667399 0.02736759]\n",
            " ...\n",
            " [0.40060832 0.40060832 0.40060832]\n",
            " [0.40060832 0.40060832 0.51421072]\n",
            " [0.40060832 0.51421072 0.40060832]]\n",
            "[0.01667399 0.02736759 0.40060832 ... 0.51421072 0.40060832 0.71555938]\n"
          ]
        }
      ]
    },
    {
      "cell_type": "code",
      "metadata": {
        "id": "vmbmu4Yrhy0p",
        "colab": {
          "base_uri": "https://localhost:8080/"
        },
        "outputId": "0f653d0d-9ddc-4309-85fc-d84aead76330"
      },
      "source": [
        "trainXrs = numpy.reshape(trainX, (trainX.shape[0], trainX.shape[1],1 ))\n",
        "testXrs = numpy.reshape(testX, (testX.shape[0], trainX.shape[1], 1 ))\n",
        "\n",
        "\n",
        "#trainXrs = numpy.reshape(trainX, (trainX.shape[0], 1, trainX.shape[1]))\n",
        "#testXrs = numpy.reshape(testX, (testX.shape[0], 1, trainX.shape[1]))\n",
        "\n",
        "print(trainXrs.shape)\n",
        "print(testXrs.shape)"
      ],
      "execution_count": null,
      "outputs": [
        {
          "output_type": "stream",
          "name": "stdout",
          "text": [
            "(34854, 3, 1)\n",
            "(17166, 3, 1)\n"
          ]
        }
      ]
    },
    {
      "cell_type": "code",
      "metadata": {
        "id": "OR1Ge71Xh2FK",
        "colab": {
          "base_uri": "https://localhost:8080/"
        },
        "outputId": "c2a61c09-f5d1-48e5-89b3-7364f9c05775"
      },
      "source": [
        "model = Sequential()\n",
        "#model.add(LSTM(4, input_shape=(1, look_back)))\n",
        "model.add(LSTM(4, input_shape=(look_back, 1)))\n",
        "model.add(Dense(1))\n",
        "#model.add(Dense(4, input_shape=(1, look_back), activation='relu'))\n",
        "#model.add(Dense(8, activation='relu'))\n",
        "#model.add(Dense(1))\n",
        "model.compile(loss='mean_squared_error', optimizer='adam')\n",
        "history = model.fit(trainXrs, trainY, epochs=30, batch_size=50, verbose=1,validation_split=0.4)"
      ],
      "execution_count": null,
      "outputs": [
        {
          "output_type": "stream",
          "name": "stdout",
          "text": [
            "Epoch 1/30\n",
            "419/419 [==============================] - 4s 6ms/step - loss: 0.0394 - val_loss: 0.0588\n",
            "Epoch 2/30\n",
            "419/419 [==============================] - 2s 5ms/step - loss: 0.0282 - val_loss: 0.0552\n",
            "Epoch 3/30\n",
            "419/419 [==============================] - 2s 5ms/step - loss: 0.0281 - val_loss: 0.0544\n",
            "Epoch 4/30\n",
            "419/419 [==============================] - 2s 4ms/step - loss: 0.0280 - val_loss: 0.0555\n",
            "Epoch 5/30\n",
            "419/419 [==============================] - 2s 5ms/step - loss: 0.0279 - val_loss: 0.0563\n",
            "Epoch 6/30\n",
            "419/419 [==============================] - 2s 5ms/step - loss: 0.0279 - val_loss: 0.0565\n",
            "Epoch 7/30\n",
            "419/419 [==============================] - 2s 5ms/step - loss: 0.0278 - val_loss: 0.0548\n",
            "Epoch 8/30\n",
            "419/419 [==============================] - 2s 4ms/step - loss: 0.0278 - val_loss: 0.0558\n",
            "Epoch 9/30\n",
            "419/419 [==============================] - 2s 5ms/step - loss: 0.0277 - val_loss: 0.0559\n",
            "Epoch 10/30\n",
            "419/419 [==============================] - 2s 4ms/step - loss: 0.0277 - val_loss: 0.0548\n",
            "Epoch 11/30\n",
            "419/419 [==============================] - 2s 4ms/step - loss: 0.0277 - val_loss: 0.0555\n",
            "Epoch 12/30\n",
            "419/419 [==============================] - 2s 5ms/step - loss: 0.0276 - val_loss: 0.0542\n",
            "Epoch 13/30\n",
            "419/419 [==============================] - 2s 4ms/step - loss: 0.0275 - val_loss: 0.0533\n",
            "Epoch 14/30\n",
            "419/419 [==============================] - 2s 4ms/step - loss: 0.0275 - val_loss: 0.0542\n",
            "Epoch 15/30\n",
            "419/419 [==============================] - 2s 4ms/step - loss: 0.0274 - val_loss: 0.0541\n",
            "Epoch 16/30\n",
            "419/419 [==============================] - 2s 5ms/step - loss: 0.0274 - val_loss: 0.0547\n",
            "Epoch 17/30\n",
            "419/419 [==============================] - 2s 4ms/step - loss: 0.0273 - val_loss: 0.0530\n",
            "Epoch 18/30\n",
            "419/419 [==============================] - 2s 5ms/step - loss: 0.0273 - val_loss: 0.0536\n",
            "Epoch 19/30\n",
            "419/419 [==============================] - 2s 4ms/step - loss: 0.0272 - val_loss: 0.0536\n",
            "Epoch 20/30\n",
            "419/419 [==============================] - 2s 4ms/step - loss: 0.0272 - val_loss: 0.0527\n",
            "Epoch 21/30\n",
            "419/419 [==============================] - 2s 4ms/step - loss: 0.0272 - val_loss: 0.0532\n",
            "Epoch 22/30\n",
            "419/419 [==============================] - 2s 5ms/step - loss: 0.0272 - val_loss: 0.0528\n",
            "Epoch 23/30\n",
            "419/419 [==============================] - 2s 4ms/step - loss: 0.0271 - val_loss: 0.0549\n",
            "Epoch 24/30\n",
            "419/419 [==============================] - 2s 5ms/step - loss: 0.0271 - val_loss: 0.0532\n",
            "Epoch 25/30\n",
            "419/419 [==============================] - 2s 4ms/step - loss: 0.0271 - val_loss: 0.0529\n",
            "Epoch 26/30\n",
            "419/419 [==============================] - 2s 5ms/step - loss: 0.0271 - val_loss: 0.0535\n",
            "Epoch 27/30\n",
            "419/419 [==============================] - 2s 4ms/step - loss: 0.0271 - val_loss: 0.0528\n",
            "Epoch 28/30\n",
            "419/419 [==============================] - 2s 4ms/step - loss: 0.0271 - val_loss: 0.0530\n",
            "Epoch 29/30\n",
            "419/419 [==============================] - 2s 5ms/step - loss: 0.0271 - val_loss: 0.0537\n",
            "Epoch 30/30\n",
            "419/419 [==============================] - 2s 4ms/step - loss: 0.0270 - val_loss: 0.0529\n"
          ]
        }
      ]
    },
    {
      "cell_type": "code",
      "metadata": {
        "id": "3rU750ElOtPO",
        "colab": {
          "base_uri": "https://localhost:8080/",
          "height": 295
        },
        "outputId": "63d6199f-cdbd-4c9a-b4b8-358ff17eecf1"
      },
      "source": [
        "\n",
        "from matplotlib import pyplot\n",
        "\n",
        "\n",
        "pyplot.plot(history.history['loss'])\n",
        "pyplot.plot(history.history['val_loss'])\n",
        "pyplot.title('model train vs validation loss')\n",
        "pyplot.ylabel('loss')\n",
        "pyplot.xlabel('epoch')\n",
        "pyplot.legend(['train', 'validation'], loc='upper right')\n",
        "pyplot.show()"
      ],
      "execution_count": null,
      "outputs": [
        {
          "output_type": "display_data",
          "data": {
            "image/png": "[encoded data removed]",
            "text/plain": [
              "<Figure size 432x288 with 1 Axes>"
            ]
          },
          "metadata": {
            "needs_background": "light"
          }
        }
      ]
    },
    {
      "cell_type": "code",
      "metadata": {
        "id": "KzSXqWFriXdQ",
        "colab": {
          "base_uri": "https://localhost:8080/"
        },
        "outputId": "b41ea4b7-248f-4e92-879c-1a3c7c87e197"
      },
      "source": [
        "trainPredict = model.predict(trainXrs)\n",
        "testPredict = model.predict(testXrs)\n",
        "len(trainPredict)\n",
        "trainPredict.shape\n",
        "testPredict.shape"
      ],
      "execution_count": null,
      "outputs": [
        {
          "output_type": "execute_result",
          "data": {
            "text/plain": [
              "(17166, 1)"
            ]
          },
          "metadata": {},
          "execution_count": 1353
        }
      ]
    },
    {
      "cell_type": "code",
      "metadata": {
        "id": "rwKx9YH9jC1I"
      },
      "source": [
        "trainPredict = scaler.inverse_transform(trainPredict)\n",
        "#trainY = scaler.inverse_transform([trainY])\n",
        "testPredict = scaler.inverse_transform(testPredict)\n",
        "#stY = scaler.inverse_transform([testY])\n"
      ],
      "execution_count": null,
      "outputs": []
    },
    {
      "cell_type": "code",
      "metadata": {
        "id": "4Xp2Go9UjXUP",
        "colab": {
          "base_uri": "https://localhost:8080/",
          "height": 775
        },
        "outputId": "88292ffc-f571-411e-c7be-9757f1d88332"
      },
      "source": [
        "# shift train predictions for plotting\n",
        "\n",
        "from matplotlib.pyplot import figure\n",
        "trainPredictPlot = numpy.empty_like(dataset)\n",
        "trainPredictPlot[:, :] = numpy.nan\n",
        "trainPredictPlot[look_back:len(trainPredict)+look_back, :] = trainPredict\n",
        "# shift test predictions for plotting\n",
        "\n",
        "\n",
        "#testPredictPlot = numpy.empty_like(dataset)\n",
        "testPredictPlot = numpy.empty_like(dataset)\n",
        "\n",
        "\n",
        "\n",
        "testPredictPlot[:, :] = numpy.nan\n",
        "#testPredictPlot[:] = numpy.nan\n",
        "\n",
        "\n",
        "\n",
        "testPredictPlot[len(trainPredict)+(look_back*2)+1:len(dataset)-1, :] = testPredict\n",
        "figure(figsize=(12, 12), dpi=80)\n",
        "\n",
        "\n",
        "#adding dates to the prevision\n",
        "\n",
        "dates = df1.index.to_list()\n",
        "frcst = testPredictPlot.reshape(len(df1))\n",
        "True_Power = df1[\"Avg Active Power (kW)\"].to_list()\n",
        "\n",
        "\n",
        "Machine_Df = pd.DataFrame(data={\n",
        "    \"Date\":dates,\n",
        "   \"Avg Active Power\": True_Power,\n",
        "   \"Predicted Active Power\": frcst\n",
        "    })\n",
        "Machine_Df.set_index('Date', inplace=True)\n",
        "\n",
        "\n",
        "# plot baseline and predictions\n",
        "\n",
        "#plt.plot(Machine_Df.[8000:8060,0])\n",
        "plt.plot(Machine_Df.loc['2018-11-05 00:00:00':'2018-11-05 12:50:00'])\n",
        "# Machine_Df.loc['2018-04-30 23:50:00' : '2018-05-01 13:50:00'] \n",
        "\n",
        "#testPredictPlot.\n",
        "#plt.plot(scaler.inverse_transform(dataset[180:200]))\n",
        "#plt.plot(trainPredictPlot)\n",
        "#plt.plot(testPredictPlot[180:200])\n",
        "plt.show()\n"
      ],
      "execution_count": null,
      "outputs": [
        {
          "output_type": "display_data",
          "data": {
            "image/png": "[encoded data removed]",
            "text/plain": [
              "<Figure size 960x960 with 1 Axes>"
            ]
          },
          "metadata": {
            "needs_background": "light"
          }
        }
      ]
    },
    {
      "cell_type": "code",
      "metadata": {
        "id": "Cxd57dYEg7j6",
        "colab": {
          "base_uri": "https://localhost:8080/"
        },
        "outputId": "c8d94db2-7da2-4774-f289-c078cd206a48"
      },
      "source": [
        "print(Machine_Df.loc['2018-11-01 00:00:00':'2018-11-01 12:50:00'])"
      ],
      "execution_count": null,
      "outputs": [
        {
          "output_type": "stream",
          "name": "stdout",
          "text": [
            "                     Avg Active Power  Predicted Active Power\n",
            "Date                                                         \n",
            "2018-11-01 00:00:00           1509.41             1090.592529\n",
            "2018-11-01 00:10:00           1332.65             1092.203857\n",
            "2018-11-01 00:20:00           1247.65             1079.056641\n",
            "2018-11-01 00:30:00           1408.13             1074.868774\n",
            "2018-11-01 00:40:00           1461.78             1087.820801\n",
            "...                               ...                     ...\n",
            "2018-11-01 12:10:00            734.70              874.416199\n",
            "2018-11-01 12:20:00            580.57              800.429688\n",
            "2018-11-01 12:30:00            635.74              711.049194\n",
            "2018-11-01 12:40:00            594.59              655.301025\n",
            "2018-11-01 12:50:00            398.38              595.877502\n",
            "\n",
            "[78 rows x 2 columns]\n"
          ]
        }
      ]
    },
    {
      "cell_type": "code",
      "metadata": {
        "id": "vIux6dstjo5z",
        "colab": {
          "base_uri": "https://localhost:8080/"
        },
        "outputId": "e7491476-f039-4c05-ee6f-8de3283245b2"
      },
      "source": [
        "Machine_Df.reset_index(inplace= True)\n",
        "print(Machine_Df.tail)"
      ],
      "execution_count": null,
      "outputs": [
        {
          "output_type": "stream",
          "name": "stdout",
          "text": [
            "<bound method NDFrame.tail of                      Date  Avg Active Power  Predicted Active Power\n",
            "0     2018-01-01 00:00:00         62.120000                     NaN\n",
            "1     2018-01-01 00:10:00        619.628896                     NaN\n",
            "2     2018-01-01 00:20:00         24.940000                     NaN\n",
            "3     2018-01-01 00:30:00         25.790000                     NaN\n",
            "4     2018-01-01 00:40:00         42.330000                     NaN\n",
            "...                   ...               ...                     ...\n",
            "52023 2018-12-31 23:10:00       1542.140000             1084.056519\n",
            "52024 2018-12-31 23:20:00       1533.840000             1084.303101\n",
            "52025 2018-12-31 23:30:00       1537.780000             1084.005737\n",
            "52026 2018-12-31 23:40:00       1531.780000             1084.221680\n",
            "52027 2018-12-31 23:50:00       1543.430000                     NaN\n",
            "\n",
            "[52028 rows x 3 columns]>\n"
          ]
        }
      ]
    },
    {
      "cell_type": "code",
      "metadata": {
        "id": "2k_osNaDhfvT"
      },
      "source": [
        "\n",
        "Machine_Df.to_excel('WTG #11 forecast_mean_30%.xlsx', index = False)"
      ],
      "execution_count": null,
      "outputs": []
    }
  ]
}