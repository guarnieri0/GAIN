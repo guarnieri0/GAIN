{
  "cells": [
    {
      "cell_type": "markdown",
      "metadata": {
        "id": "view-in-github",
        "colab_type": "text"
      },
      "source": [
        "<a href=\"https://colab.research.google.com/github/guarnieri0/GAIN/blob/master/Welcome_To_Colaboratory.ipynb\" target=\"_parent\"><img src=\"https://colab.research.google.com/assets/colab-badge.svg\" alt=\"Open In Colab\"/></a>"
      ]
    },
    {
      "cell_type": "markdown",
      "source": [
        "**Import librerie**"
      ],
      "metadata": {
        "id": "UjmU-jSZAeY0"
      }
    },
    {
      "cell_type": "code",
      "source": [
        "import pandas as pd \n",
        "\n",
        "import json\n",
        "import datetime\n",
        "from sklearn.preprocessing import LabelEncoder\n",
        "import numpy as np\n",
        "from numpy.linalg import norm\n",
        "from numpy import savetxt\n",
        "from sklearn import preprocessing"
      ],
      "metadata": {
        "id": "-Px-izwgAhwb"
      },
      "execution_count": 172,
      "outputs": []
    },
    {
      "cell_type": "markdown",
      "source": [
        "**Reading Dataset**"
      ],
      "metadata": {
        "id": "oqecAeCuXiSf"
      }
    },
    {
      "cell_type": "code",
      "source": [
        "df = pd.read_json(\"today_dataset.json\")\n",
        "df_past = pd.read_json(\"past_dataset.json\")"
      ],
      "metadata": {
        "id": "46o0MVpXSBGF"
      },
      "execution_count": 162,
      "outputs": []
    },
    {
      "cell_type": "markdown",
      "source": [
        "**Deleting useless columns**"
      ],
      "metadata": {
        "id": "45zf7BMMXlke"
      }
    },
    {
      "cell_type": "code",
      "source": [
        "df = df.drop(['idx','testArgs','lastFailJob','engine','assignee','lastPassJob','projectIdx','validationIdx','templateIdx','triggerIdx','firstFailJob','lastFailJob','silent','status','reportLink'], axis = 1)\n",
        "df_past = df_past.drop(['idx','testArgs','lastFailJob','engine','assignee','lastPassJob','projectIdx','validationIdx','templateIdx','triggerIdx','firstFailJob','lastFailJob','silent','status','reportLink'], axis = 1)"
      ],
      "metadata": {
        "id": "ShUV85zSUcI2"
      },
      "execution_count": 150,
      "outputs": []
    },
    {
      "cell_type": "code",
      "source": [
        "ts =  pd.Timestamp(year = 2022, month = 10, day = 6, hour = 10, second = 49)\n",
        "\n",
        "\n",
        "prova = df_past.loc[lambda df: df_past['timestamp'] < ts]"
      ],
      "metadata": {
        "id": "lSE3NMTJJ8Hg"
      },
      "execution_count": 179,
      "outputs": []
    },
    {
      "cell_type": "code",
      "source": [
        "print(prova)"
      ],
      "metadata": {
        "id": "FdYlUS_ZPrWc",
        "outputId": "12de92b1-0a4e-403a-cf06-e60597ebb827",
        "colab": {
          "base_uri": "https://localhost:8080/"
        }
      },
      "execution_count": 180,
      "outputs": [
        {
          "output_type": "stream",
          "name": "stdout",
          "text": [
            "       idx                                           testName testArgs  \\\n",
            "8    64252      \\TestSuite\\Draco\\PSA\\PSA_51_SL2PadDummyAPL.py            \n",
            "9    64241  \\TestSuite\\Dorado\\ShareBuffer\\SwapBuffer\\SwapB...            \n",
            "10   64239  \\TestSuite\\MultiProduct\\FBS\\FBS_01_CheckFragme...            \n",
            "11   64234  \\TestSuite\\Draco\\SecureBoot\\SecureBoot_02_tamp...            \n",
            "12   64233  \\TestSuite\\Dorado\\ErrorManagement\\GCBackup\\GCB...            \n",
            "..     ...                                                ...      ...   \n",
            "740  22008  \\TestSuite\\Generic\\WriteReadVerify\\WRV_71_Writ...     None   \n",
            "741  22776  \\TestSuite\\Generic\\RTG\\RTG_02_Full_Functionali...     None   \n",
            "742  23291  \\TestSuite\\Generic\\RTG\\RTG_01_Fast_Focus_Mode_...     None   \n",
            "743  23292  \\TestSuite\\MultiProduct\\LibTest\\VuLibTest\\VuCm...     None   \n",
            "744  23294  \\TestSuite\\Generic\\RTG\\RTG_01_Fast_Focus_Mode_...     None   \n",
            "\n",
            "                                           compareInfo      assignee engine  \\\n",
            "8    {\"TestArgs\": \"\", \"TestName\": \"\\\\TestSuite\\\\Dra...      VCARLUCC   JIRA   \n",
            "9    {\"TestArgs\": \"\", \"TestName\": \"\\\\TestSuite\\\\Dor...      GDALESSI   JIRA   \n",
            "10   {\"TestArgs\": \"\", \"TestName\": \"\\\\TestSuite\\\\Mul...      VBUCCINO   JIRA   \n",
            "11   {\"TestArgs\": \"\", \"TestName\": \"\\\\TestSuite\\\\Dra...    LCRISTILLO   JIRA   \n",
            "12   {\"TestArgs\": \"\", \"TestName\": \"\\\\TestSuite\\\\Dor...    LCRISTILLO   JIRA   \n",
            "..                                                 ...           ...    ...   \n",
            "740  {\"TestArgs\": \"--runTime=86400\", \"TestName\": \"\\...  MARCOSPINELL   JIRA   \n",
            "741  {\"TestArgs\": \"--runTime=86400\", \"TestName\": \"\\...  marcospinell   JIRA   \n",
            "742  {\"TestArgs\": \"--runTime=86400\", \"TestName\": \"\\...   NAPLABADMIN   JIRA   \n",
            "743  {\"TestArgs\": \"\", \"TestName\": \"\\\\TestSuite\\\\Mul...   NAPLABADMIN   JIRA   \n",
            "744  {\"TestArgs\": \"--runTime=86400\", \"TestName\": \"\\...   NAPLABADMIN   JIRA   \n",
            "\n",
            "                                           reportTitle          reportId  \\\n",
            "8    \\TestSuite\\Draco\\PSA\\PSA_51_SL2PadDummyAPL.py,...  MNDRACOVAL-38228   \n",
            "9    \\TestSuite\\Dorado\\ShareBuffer\\SwapBuffer\\SwapB...  MNDRACOVAL-38227   \n",
            "10   \\TestSuite\\MultiProduct\\FBS\\FBS_01_CheckFragme...  MNDRACOVAL-38226   \n",
            "11   \\TestSuite\\Draco\\SecureBoot\\SecureBoot_02_tamp...  MNDRACOVAL-38221   \n",
            "12   \\TestSuite\\Dorado\\ErrorManagement\\GCBackup\\GCB...  MNDRACOVAL-38220   \n",
            "..                                                 ...               ...   \n",
            "740  UFS-Others , DracoMBU_Lambeau_B58R_UFS2.2, 01F...  MNDRACOVAL-10921   \n",
            "741  UFS-DMC , DracoMBU_Lambeau_B58R_UFS2.2, 01F5 -...  MNDRACOVAL-12077   \n",
            "742  UFS-DMC ,-, -, \\TestSuite\\Generic\\RTG\\RTG_01_F...  MNDRACOVAL-12834   \n",
            "743  UFS-Other-commands-timeout ,-,-,\\TestSuite\\Mul...  MNDRACOVAL-12835   \n",
            "744  UFS-Illegal-Request ,-, -, \\TestSuite\\Generic\\...  MNDRACOVAL-12837   \n",
            "\n",
            "                                            reportLink status silent  \\\n",
            "8    https://jira.micron.com/jira/browse/MNDRACOVAL...   Open  false   \n",
            "9    https://jira.micron.com/jira/browse/MNDRACOVAL...   Open  false   \n",
            "10   https://jira.micron.com/jira/browse/MNDRACOVAL...   Open  false   \n",
            "11   https://jira.micron.com/jira/browse/MNDRACOVAL...   Open  false   \n",
            "12   https://jira.micron.com/jira/browse/MNDRACOVAL...   Open  false   \n",
            "..                                                 ...    ...    ...   \n",
            "740  https://jira.micron.com/jira/browse/MNDRACOVAL...   Open  false   \n",
            "741  https://jira.micron.com/jira/browse/MNDRACOVAL...   Open  false   \n",
            "742  https://jira.micron.com/jira/browse/MNDRACOVAL...   Open  false   \n",
            "743  https://jira.micron.com/jira/browse/MNDRACOVAL...   Open  false   \n",
            "744  https://jira.micron.com/jira/browse/MNDRACOVAL...   Open  false   \n",
            "\n",
            "                              firstFailJob  \\\n",
            "8             mrt_20221005_180123_46A47DD9   \n",
            "9             mrt_20221005_180247_46A57DD9   \n",
            "10            mrt_20221005_180123_46A47DD9   \n",
            "11            mrt_20221005_180123_46A47DD9   \n",
            "12            mrt_20221005_180247_46A57DD9   \n",
            "..                                     ...   \n",
            "740  marcospinell_20210920_160938_8A627DD9   \n",
            "741  marcospinell_20210920_160938_8A627DD9   \n",
            "742  marcospinell_20211021_102556_91827DD9   \n",
            "743    lcristillo_20211021_110932_918A7DD9   \n",
            "744  marcospinell_20211021_102556_91827DD9   \n",
            "\n",
            "                               lastFailJob  lastPassJob projectIdx  \\\n",
            "8             mrt_20221005_180247_46A57DD9          NaN       (34)   \n",
            "9             mrt_20221005_180247_46A57DD9          NaN       (34)   \n",
            "10            mrt_20221005_180123_46A47DD9          NaN       (34)   \n",
            "11            mrt_20221006_210035_47357DD9          NaN       (34)   \n",
            "12            mrt_20221005_180247_46A57DD9          NaN       (34)   \n",
            "..                                     ...          ...        ...   \n",
            "740  marcospinell_20210920_160938_8A627DD9          NaN       None   \n",
            "741  marcospinell_20210920_160938_8A627DD9          NaN       None   \n",
            "742  marcospinell_20211021_102556_91827DD9          NaN        (1)   \n",
            "743    lcristillo_20211021_110932_918A7DD9          NaN        (1)   \n",
            "744  marcospinell_20211021_102556_91827DD9          NaN        (1)   \n",
            "\n",
            "    validationIdx templateIdx triggerIdx           timestamp  \n",
            "8            None        None       None 2022-10-05 16:43:53  \n",
            "9            None        None       None 2022-10-05 12:50:38  \n",
            "10           None        None       None 2022-10-05 12:24:04  \n",
            "11           None        None       None 2022-10-05 11:25:05  \n",
            "12           None        None       None 2022-10-05 11:20:46  \n",
            "..            ...         ...        ...                 ...  \n",
            "740         (431)        None       None 2021-11-26 01:55:27  \n",
            "741         (431)        None       None 2021-11-26 01:55:27  \n",
            "742          None        None       None 2021-11-26 01:55:27  \n",
            "743          None        None       None 2021-11-26 01:55:27  \n",
            "744          None        None       None 2021-11-26 01:55:27  \n",
            "\n",
            "[737 rows x 19 columns]\n"
          ]
        }
      ]
    },
    {
      "cell_type": "code",
      "source": [
        "print(type(df.loc[0]['timestamp']))"
      ],
      "metadata": {
        "id": "9rtLgJjzMEGh",
        "outputId": "bc8f4145-4aaa-4fe4-d4f3-842e06cc3f58",
        "colab": {
          "base_uri": "https://localhost:8080/"
        }
      },
      "execution_count": 169,
      "outputs": [
        {
          "output_type": "stream",
          "name": "stdout",
          "text": [
            "<class 'pandas._libs.tslibs.timestamps.Timestamp'>\n"
          ]
        }
      ]
    },
    {
      "cell_type": "code",
      "source": [
        "print(df_past)\n",
        "print(df)"
      ],
      "metadata": {
        "id": "SC6OXpdwyzVg"
      },
      "execution_count": null,
      "outputs": []
    },
    {
      "cell_type": "markdown",
      "source": [
        "**Retrieving the Error Code and Error description**"
      ],
      "metadata": {
        "id": "7XEPBRA3ZITL"
      }
    },
    {
      "cell_type": "code",
      "source": [
        "df_splitted= df['compareInfo'].str.split(pat=',', expand=True)\n",
        "df_splitted = df_splitted.drop([0,1], axis = 1)\n",
        "error_code = df_splitted.iloc[:,0].to_list()\n",
        "error_description = df_splitted.iloc[:,1].to_list()\n",
        "df.insert(5, 'error_description', error_description)\n",
        "df.insert(6,'error_code',error_code)\n",
        "\n",
        "df_splitted_past= df_past['compareInfo'].str.split(pat=',', expand=True)\n",
        "df_splitted_past = df_splitted_past.drop([0,1], axis = 1)\n",
        "error_code = df_splitted_past.iloc[:,0].to_list()\n",
        "error_description = df_splitted_past.iloc[:,1].to_list()\n",
        "df_past.insert(5, 'error_description', error_description)\n",
        "df_past.insert(6,'error_code',error_code)"
      ],
      "metadata": {
        "id": "V39-tkbyXqEE"
      },
      "execution_count": 152,
      "outputs": []
    },
    {
      "cell_type": "markdown",
      "source": [
        "**Retrieving the test category**"
      ],
      "metadata": {
        "id": "dTyIW0R3zxkT"
      }
    },
    {
      "cell_type": "code",
      "source": [
        "testname_splitted = df['testName'].str.split(pat='\\\\', expand = True)\n",
        "testname_splitted = testname_splitted.drop([0,1,2,4,5], axis = 1)\n",
        "print(testname_splitted)\n",
        "testname = testname_splitted.iloc[:,0].to_list()\n",
        "df.insert(7,'cat_name', testname)\n",
        "print(df)\n",
        "\n",
        "testname_past_splitted = df_past['testName'].str.split(pat='\\\\', expand = True)\n",
        "testname_past_splitted = testname_past_splitted.drop([0,1,2,4,5], axis = 1)\n",
        "print(testname_past_splitted)\n",
        "testname = testname_past_splitted.iloc[:,0].to_list()\n",
        "df_past.insert(7,'cat_name', testname)\n",
        "print(df_past)\n"
      ],
      "metadata": {
        "id": "qsgBWSG2zweR"
      },
      "execution_count": null,
      "outputs": []
    },
    {
      "cell_type": "markdown",
      "source": [
        "**Deleting redundant columns**"
      ],
      "metadata": {
        "id": "AjkOPsOSCLPa"
      }
    },
    {
      "cell_type": "code",
      "source": [
        "df = df.drop(['compareInfo','reportTitle'], axis = 1)\n",
        "df_past = df_past.drop(['compareInfo','reportTitle'], axis = 1)"
      ],
      "metadata": {
        "id": "A0nXm0semnJS"
      },
      "execution_count": 154,
      "outputs": []
    },
    {
      "cell_type": "markdown",
      "source": [
        "**Convert timestamp in year/month/day**\n",
        "\n",
        "---\n",
        "\n"
      ],
      "metadata": {
        "id": "GbapJ7D1HkUX"
      }
    },
    {
      "cell_type": "code",
      "source": [
        "df['timestamp'] = df['timestamp'].dt.date\n",
        "df_past['timestamp'] = df_past['timestamp'].dt.date\n"
      ],
      "metadata": {
        "id": "-I6KjUEHHq83"
      },
      "execution_count": 155,
      "outputs": []
    },
    {
      "cell_type": "code",
      "source": [
        "print(df.columns)\n",
        "print(df_past.columns)"
      ],
      "metadata": {
        "colab": {
          "base_uri": "https://localhost:8080/"
        },
        "id": "sy4ZJVgaCbRl",
        "outputId": "03cb29fe-f1c5-4793-b82c-e2e6abafc483"
      },
      "execution_count": 156,
      "outputs": [
        {
          "output_type": "stream",
          "name": "stdout",
          "text": [
            "Index(['testName', 'reportId', 'timestamp', 'error_description', 'error_code',\n",
            "       'cat_name'],\n",
            "      dtype='object')\n",
            "Index(['testName', 'reportId', 'timestamp', 'error_description', 'error_code',\n",
            "       'cat_name'],\n",
            "      dtype='object')\n"
          ]
        }
      ]
    },
    {
      "cell_type": "markdown",
      "source": [
        "**Filling the NULL value**\n",
        "\n",
        "---"
      ],
      "metadata": {
        "id": "4RmUPD7Qz-mn"
      }
    },
    {
      "cell_type": "code",
      "source": [
        "df['error_description'] = df['error_description'].fillna('None')\n",
        "df['error_code'] = df['error_code'].fillna('None')\n",
        "#df['error_description'] = df['error_description'].fillna('None')\n"
      ],
      "metadata": {
        "id": "qfrPYgXrBjSA"
      },
      "execution_count": 157,
      "outputs": []
    },
    {
      "cell_type": "markdown",
      "source": [
        "**Encoding text features**"
      ],
      "metadata": {
        "id": "Gi-w8jDC0NtJ"
      }
    },
    {
      "cell_type": "code",
      "source": [
        "encoder_df_error_code = LabelEncoder()\n",
        "#encoder_df_past_error_code = LabelEncoder()\n",
        "encoder_df_error_description = LabelEncoder()\n",
        "#encoder_df_past_error_description = LabelEncoder()\n",
        "encoder_df_cat_name = LabelEncoder()\n",
        "#encoder_df_past_cat_name = LabelEncoder()\n",
        "\n",
        "\n",
        "df['error_code'] = encoder_df_error_code.fit_transform(df['error_code'])\n",
        "df['error_description'] = encoder_df_error_description.fit_transform(df['error_description'])\n",
        "df['cat_name'] = encoder_df_cat_name.fit_transform(df['cat_name'])\n",
        "\n",
        "df_past['error_code'] = encoder_df_error_code.fit_transform(df_past['error_code'])\n",
        "df_past['error_description'] = encoder_df_error_description.fit_transform(df_past['error_description'])\n",
        "df_past['cat_name'] = encoder_df_cat_name.fit_transform(df_past['cat_name'])\n"
      ],
      "metadata": {
        "id": "jy3laBXoDnD_"
      },
      "execution_count": 158,
      "outputs": []
    },
    {
      "cell_type": "code",
      "source": [
        "print(df_past.max())\n",
        "print(df.max())"
      ],
      "metadata": {
        "id": "FiSUUJizsf3y",
        "outputId": "9993a0e3-3b5f-4bd8-ab1b-3e8c384340df",
        "colab": {
          "base_uri": "https://localhost:8080/"
        }
      },
      "execution_count": 160,
      "outputs": [
        {
          "output_type": "stream",
          "name": "stdout",
          "text": [
            "testName             test_verification\n",
            "reportId               MNDRACOVAL-9255\n",
            "timestamp                   2022-10-06\n",
            "error_description                   32\n",
            "error_code                          19\n",
            "cat_name                            76\n",
            "dtype: object\n",
            "testName             \\TestSuite\\Generic\\VoltageDetect\\BO_06_AqlyVcc...\n",
            "reportId                                              MNDRACOVAL-38286\n",
            "timestamp                                                   2022-10-07\n",
            "error_description                                                    1\n",
            "error_code                                                           3\n",
            "cat_name                                                             4\n",
            "dtype: object\n"
          ]
        }
      ]
    },
    {
      "cell_type": "markdown",
      "source": [
        "**Calculate the similarity matrix**"
      ],
      "metadata": {
        "id": "Ba_k-Gq-0We8"
      }
    },
    {
      "cell_type": "code",
      "source": [
        "similarity = np.empty((df_past.shape[0],df.shape[0]))\n",
        "for i in range (0,df_past.shape[0],1):\n",
        "  for j in range (0, df.shape[0],1):\n",
        "   \n",
        "    past_vector = np.array([df_past.iloc[i][3],df_past.iloc[i][4],df_past.iloc[i][5]])\n",
        "    today_vector = np.array([df.iloc[j][3],df.iloc[j][4],df.iloc[j][5]])\n",
        "    print(today_vector)\n",
        "\n",
        "    #normalized_past_arr = preprocessing.normalize(past_vector)\n",
        "    #normalized_today_arr = preprocessing.normalize(today_vector)\n",
        "    \n",
        "    #print(normalized_past_arr)\n",
        "    #print(normalized_today_arr)\n",
        "    #cosin similarity\n",
        "    similarity[i,j] = np.dot(past_vector,today_vector)/(norm(past_vector)*norm(today_vector))\n",
        "  "
      ],
      "metadata": {
        "id": "XEY42DD-Dykl"
      },
      "execution_count": null,
      "outputs": []
    },
    {
      "cell_type": "code",
      "source": [
        "print(similarity)"
      ],
      "metadata": {
        "id": "HNKbncSqq7Kq",
        "outputId": "4eae8b6d-9f1c-4bd1-8663-f82a2f264d9f",
        "colab": {
          "base_uri": "https://localhost:8080/"
        }
      },
      "execution_count": 140,
      "outputs": [
        {
          "output_type": "stream",
          "name": "stdout",
          "text": [
            "[[0.98437404 0.94515531 0.46070388 0.15749985 0.95088698]\n",
            " [0.96405176 0.96658021 0.55204366 0.26055453 0.97879763]\n",
            " [0.98362124 0.94443251 0.4769408  0.174866   0.95798004]\n",
            " ...\n",
            " [0.99882062 0.8907952  0.33645404 0.02171349 0.90308289]\n",
            " [0.96296296 0.96985729 0.55047056 0.25925926 0.97724452]\n",
            " [0.99694225 0.90803743 0.37694228 0.06501797 0.92076918]]\n"
          ]
        }
      ]
    },
    {
      "cell_type": "code",
      "source": [
        "savetxt('data.csv', similarity, delimiter = ',')"
      ],
      "metadata": {
        "id": "oPr8yqectC27"
      },
      "execution_count": 108,
      "outputs": []
    },
    {
      "cell_type": "code",
      "source": [
        "#max_position=np.amax(similarity.iloc[],axis = 0)\n",
        "#print(max_position)\n",
        "res = np.where(similarity[:,0] == np.amax(similarity[:,0]))\n",
        "print(res)\n",
        "\n",
        "\n",
        "for i in res:\n",
        "  print(df_past.iloc[i])\n",
        "print(df)"
      ],
      "metadata": {
        "id": "_op8cuZ-t8pt",
        "outputId": "6890e7bf-e56a-455e-ab3e-247268e17c3f",
        "colab": {
          "base_uri": "https://localhost:8080/"
        }
      },
      "execution_count": 144,
      "outputs": [
        {
          "output_type": "stream",
          "name": "stdout",
          "text": [
            "(array([189]),)\n",
            "                                              testName          reportId  \\\n",
            "189  \\TestSuite\\MultiProduct\\SecureWP\\SecureWP_25_A...  MNDRACOVAL-18031   \n",
            "\n",
            "      timestamp  error_description  error_code  cat_name  \n",
            "189  2022-01-26                  2           1        59  \n",
            "                                            testName          reportId  \\\n",
            "0  \\TestSuite\\Generic\\RTG\\RTG_02_Full_Functionali...  MNDRACOVAL-38286   \n",
            "1  \\TestSuite\\Generic\\VoltageDetect\\BO_06_AqlyVcc...  MNDRACOVAL-38285   \n",
            "2        \\TestSuite\\Draco\\Latency\\Latency_BBM_TLC.py  MNDRACOVAL-38284   \n",
            "3  \\TestSuite\\Dorado\\ErrorManagement\\WriteErrorMa...  MNDRACOVAL-38280   \n",
            "4  \\TestSuite\\Draco\\QAFW\\QAFW_Query_Descriptor_01.py  MNDRACOVAL-38278   \n",
            "\n",
            "    timestamp  error_description  error_code  cat_name  \n",
            "0  2022-10-07                  0           0         3  \n",
            "1  2022-10-07                  1           2         4  \n",
            "2  2022-10-07                  0           3         1  \n",
            "3  2022-10-07                  0           1         0  \n",
            "4  2022-10-07                  0           1         2  \n"
          ]
        }
      ]
    },
    {
      "cell_type": "code",
      "source": [
        "a = [0,0,3]\n",
        "b = [2,1,59]\n",
        "print(norm(a))\n",
        "print(norm(b))\n",
        "np.dot(a,b)/(norm(a)*norm(b))"
      ],
      "metadata": {
        "id": "EhLBW4TdGX7d",
        "outputId": "a26c250e-ca08-444f-cd73-073a6d7866a1",
        "colab": {
          "base_uri": "https://localhost:8080/"
        }
      },
      "execution_count": 147,
      "outputs": [
        {
          "output_type": "stream",
          "name": "stdout",
          "text": [
            "3.0\n",
            "59.04235767650204\n"
          ]
        },
        {
          "output_type": "execute_result",
          "data": {
            "text/plain": [
              "0.9992825883286347"
            ]
          },
          "metadata": {},
          "execution_count": 147
        }
      ]
    }
  ],
  "metadata": {
    "colab": {
      "collapsed_sections": [],
      "name": "Welcome To Colaboratory",
      "provenance": [],
      "include_colab_link": true
    },
    "kernelspec": {
      "display_name": "Python 3",
      "name": "python3"
    }
  },
  "nbformat": 4,
  "nbformat_minor": 0
}