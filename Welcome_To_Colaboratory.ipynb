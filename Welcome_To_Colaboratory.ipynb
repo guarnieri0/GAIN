{
  "cells": [
    {
      "cell_type": "markdown",
      "metadata": {
        "id": "view-in-github",
        "colab_type": "text"
      },
      "source": [
        "<a href=\"https://colab.research.google.com/github/guarnieri0/GAIN/blob/master/Welcome_To_Colaboratory.ipynb\" target=\"_parent\"><img src=\"https://colab.research.google.com/assets/colab-badge.svg\" alt=\"Open In Colab\"/></a>"
      ]
    },
    {
      "cell_type": "markdown",
      "source": [
        "**Import librerie**"
      ],
      "metadata": {
        "id": "UjmU-jSZAeY0"
      }
    },
    {
      "cell_type": "code",
      "source": [
        "import pandas as pd \n",
        "\n",
        "import json\n",
        "import datetime\n",
        "from sklearn.preprocessing import LabelEncoder\n",
        "import numpy as np\n",
        "from numpy.linalg import norm\n",
        "from numpy import savetxt\n",
        "from sklearn import preprocessing\n",
        "from openpyxl import Workbook\n",
        "from openpyxl import load_workbook\n"
      ],
      "metadata": {
        "id": "-Px-izwgAhwb"
      },
      "execution_count": 163,
      "outputs": []
    },
    {
      "cell_type": "markdown",
      "source": [
        "**Reading Dataset**"
      ],
      "metadata": {
        "id": "oqecAeCuXiSf"
      }
    },
    {
      "cell_type": "code",
      "source": [
        "df = pd.read_json(\"dataset.json\")"
      ],
      "metadata": {
        "id": "46o0MVpXSBGF"
      },
      "execution_count": 164,
      "outputs": []
    },
    {
      "cell_type": "markdown",
      "source": [
        "**Deleting useless columns**"
      ],
      "metadata": {
        "id": "45zf7BMMXlke"
      }
    },
    {
      "cell_type": "code",
      "source": [
        "df = df.drop(['idx','testArgs','lastFailJob','engine','assignee','lastPassJob','projectIdx','validationIdx','templateIdx','triggerIdx','firstFailJob','lastFailJob','silent','status','reportLink'], axis = 1)\n"
      ],
      "metadata": {
        "id": "ShUV85zSUcI2"
      },
      "execution_count": 165,
      "outputs": []
    },
    {
      "cell_type": "markdown",
      "source": [
        "**Retrieving the Error Code and Error description**"
      ],
      "metadata": {
        "id": "7XEPBRA3ZITL"
      }
    },
    {
      "cell_type": "code",
      "source": [
        "df_splitted= df['compareInfo'].str.split(pat=',', expand=True)\n",
        "df_splitted = df_splitted.drop([0,1], axis = 1)\n",
        "error_code = df_splitted.iloc[:,0].to_list()\n",
        "error_description = df_splitted.iloc[:,1].to_list()\n",
        "df.insert(5, 'error_description', error_description)\n",
        "df.insert(6,'error_code',error_code)\n",
        "\n"
      ],
      "metadata": {
        "id": "V39-tkbyXqEE"
      },
      "execution_count": 166,
      "outputs": []
    },
    {
      "cell_type": "markdown",
      "source": [
        "**Retrieving the test category**"
      ],
      "metadata": {
        "id": "dTyIW0R3zxkT"
      }
    },
    {
      "cell_type": "code",
      "source": [
        "testname_splitted = df['testName'].str.split(pat='\\\\', expand = True)\n",
        "testname_splitted = testname_splitted.drop([0,1,2,4,5], axis = 1)\n",
        "testname = testname_splitted.iloc[:,0].to_list()\n",
        "df.insert(7,'cat_name', testname)\n",
        "\n"
      ],
      "metadata": {
        "id": "qsgBWSG2zweR"
      },
      "execution_count": 167,
      "outputs": []
    },
    {
      "cell_type": "markdown",
      "source": [
        "**Deleting redundant columns**"
      ],
      "metadata": {
        "id": "AjkOPsOSCLPa"
      }
    },
    {
      "cell_type": "code",
      "source": [
        "df = df.drop(['compareInfo','reportTitle'], axis = 1)"
      ],
      "metadata": {
        "id": "A0nXm0semnJS"
      },
      "execution_count": 168,
      "outputs": []
    },
    {
      "cell_type": "markdown",
      "source": [
        "**Filling the NULL value**\n",
        "\n",
        "---"
      ],
      "metadata": {
        "id": "4RmUPD7Qz-mn"
      }
    },
    {
      "cell_type": "code",
      "source": [
        "df['error_description'] = df['error_description'].fillna('None')\n",
        "df['error_code'] = df['error_code'].fillna('None')\n"
      ],
      "metadata": {
        "id": "qfrPYgXrBjSA"
      },
      "execution_count": 169,
      "outputs": []
    },
    {
      "cell_type": "markdown",
      "source": [
        "**Encoding text features**"
      ],
      "metadata": {
        "id": "Gi-w8jDC0NtJ"
      }
    },
    {
      "cell_type": "code",
      "source": [
        "encoder_df_error_code = LabelEncoder()\n",
        "encoder_df_error_description = LabelEncoder()\n",
        "encoder_df_cat_name = LabelEncoder()\n",
        "df['error_code'] = encoder_df_error_code.fit_transform(df['error_code'])\n",
        "df['error_description'] = encoder_df_error_description.fit_transform(df['error_description'])\n",
        "df['cat_name'] = encoder_df_cat_name.fit_transform(df['cat_name'])\n",
        "\n"
      ],
      "metadata": {
        "id": "jy3laBXoDnD_"
      },
      "execution_count": 170,
      "outputs": []
    },
    {
      "cell_type": "markdown",
      "source": [
        "**This print gives the results of the encoding**"
      ],
      "metadata": {
        "id": "6YRSlpk6zQbb"
      }
    },
    {
      "cell_type": "code",
      "source": [
        "print(df.max())"
      ],
      "metadata": {
        "id": "FiSUUJizsf3y",
        "outputId": "be7cae90-10e6-462a-af39-14884375b8ff",
        "colab": {
          "base_uri": "https://localhost:8080/"
        }
      },
      "execution_count": 171,
      "outputs": [
        {
          "output_type": "stream",
          "name": "stdout",
          "text": [
            "testName               test_verification\n",
            "reportId               MNDORADOVAL-31553\n",
            "timestamp            2022-10-10 02:26:24\n",
            "error_description                     17\n",
            "error_code                            21\n",
            "cat_name                              75\n",
            "dtype: object\n"
          ]
        }
      ]
    },
    {
      "cell_type": "markdown",
      "source": [
        "**Divide in two datasets (one of \"training\" and one of testing), (training : before today, testing : today)**"
      ],
      "metadata": {
        "id": "LirQJlJszcxV"
      }
    },
    {
      "cell_type": "code",
      "source": [
        "ts =  pd.Timestamp(year = 2022, month = 10, day = 9, hour =0 , second = 0)\n",
        "df_past = df.loc[lambda df: df['timestamp'] < ts]\n",
        "df = df.drop(df[df.timestamp < ts].index)"
      ],
      "metadata": {
        "id": "poXfhlymK2bd"
      },
      "execution_count": 172,
      "outputs": []
    },
    {
      "cell_type": "markdown",
      "source": [
        "**Deleting time from timestamp (only date)**"
      ],
      "metadata": {
        "id": "CTYGkzt8zx5o"
      }
    },
    {
      "cell_type": "code",
      "source": [
        "df['timestamp'] = df['timestamp'].dt.date\n",
        "df_past['timestamp'] = df_past['timestamp'].dt.date\n"
      ],
      "metadata": {
        "id": "Oh6NSAywLJNh"
      },
      "execution_count": 173,
      "outputs": []
    },
    {
      "cell_type": "markdown",
      "source": [
        "**Calculate the similarity matrix**"
      ],
      "metadata": {
        "id": "Ba_k-Gq-0We8"
      }
    },
    {
      "cell_type": "code",
      "source": [
        "similarity = np.empty((df_past.shape[0],df.shape[0]))\n",
        "for i in range (0,df_past.shape[0],1):\n",
        "  for j in range (0, df.shape[0],1):  \n",
        "    past_vector = np.array([df_past.iloc[i][3],df_past.iloc[i][4],df_past.iloc[i][5]])\n",
        "    today_vector = np.array([df.iloc[j][3],df.iloc[j][4],df.iloc[j][5]])\n",
        "    #cosin similarity\n",
        "    similarity[i,j] = np.dot(past_vector,today_vector)/(norm(past_vector)*norm(today_vector))"
      ],
      "metadata": {
        "id": "XEY42DD-Dykl"
      },
      "execution_count": 174,
      "outputs": []
    },
    {
      "cell_type": "markdown",
      "source": [
        "**Decoding the features**"
      ],
      "metadata": {
        "id": "aPD2Thqm0xSe"
      }
    },
    {
      "cell_type": "code",
      "source": [
        "df['error_code'] = encoder_df_error_code.inverse_transform(df['error_code'])\n",
        "df['error_description'] = encoder_df_error_description.inverse_transform(df['error_description'])\n",
        "df['cat_name'] = encoder_df_cat_name.inverse_transform(df['cat_name'])"
      ],
      "metadata": {
        "id": "moRfTrLP0wAn"
      },
      "execution_count": 175,
      "outputs": []
    },
    {
      "cell_type": "markdown",
      "source": [
        "**Saving the test set**"
      ],
      "metadata": {
        "id": "2GREe_uC1E-I"
      }
    },
    {
      "cell_type": "code",
      "source": [
        "df.to_excel('Matches.xlsx', sheet_name='Sightings Tested')"
      ],
      "metadata": {
        "id": "-RFeaQJxsgqm"
      },
      "execution_count": 176,
      "outputs": []
    },
    {
      "cell_type": "markdown",
      "source": [
        "**Reporting the results obtained into the same file**"
      ],
      "metadata": {
        "id": "VVYIfdsX1SZt"
      }
    },
    {
      "cell_type": "code",
      "source": [
        "wb = load_workbook('Matches.xlsx')\n",
        "ws1 = wb['Sightings Tested']\n",
        "for i in range(0,similarity.shape[1],1):\n",
        "  best_match_array = np.where(similarity[:,i] == np.amax(similarity[:,i]))\n",
        "  best_match = best_match_array[0]\n",
        "  for j in range(0,len(best_match),1):\n",
        "     ws1.cell(i+2,j+8).value = df_past.iloc[best_match[j]][1]\n",
        "wb.save('Matches.xlsx')"
      ],
      "metadata": {
        "id": "8D4pL7P-uV4t"
      },
      "execution_count": 177,
      "outputs": []
    }
  ],
  "metadata": {
    "colab": {
      "collapsed_sections": [],
      "name": "Welcome To Colaboratory",
      "provenance": [],
      "include_colab_link": true
    },
    "kernelspec": {
      "display_name": "Python 3",
      "name": "python3"
    }
  },
  "nbformat": 4,
  "nbformat_minor": 0
}