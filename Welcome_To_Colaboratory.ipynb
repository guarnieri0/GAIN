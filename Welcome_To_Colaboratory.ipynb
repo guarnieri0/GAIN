{
  "cells": [
    {
      "cell_type": "markdown",
      "metadata": {
        "id": "view-in-github",
        "colab_type": "text"
      },
      "source": [
        "<a href=\"https://colab.research.google.com/github/guarnieri0/GAIN/blob/master/Welcome_To_Colaboratory.ipynb\" target=\"_parent\"><img src=\"https://colab.research.google.com/assets/colab-badge.svg\" alt=\"Open In Colab\"/></a>"
      ]
    },
    {
      "cell_type": "markdown",
      "source": [
        "**Import librerie**"
      ],
      "metadata": {
        "id": "UjmU-jSZAeY0"
      }
    },
    {
      "cell_type": "code",
      "source": [
        "import pandas as pd \n",
        "import json\n",
        "import datetime\n",
        "from sklearn.preprocessing import LabelEncoder"
      ],
      "metadata": {
        "id": "-Px-izwgAhwb"
      },
      "execution_count": 251,
      "outputs": []
    },
    {
      "cell_type": "markdown",
      "source": [
        "**Reading Dataset**"
      ],
      "metadata": {
        "id": "oqecAeCuXiSf"
      }
    },
    {
      "cell_type": "code",
      "source": [
        "df = pd.read_json(\"today_dataset.json\")\n",
        "df_past = pd.read_json(\"past_dataset.json\")"
      ],
      "metadata": {
        "id": "46o0MVpXSBGF"
      },
      "execution_count": 252,
      "outputs": []
    },
    {
      "cell_type": "markdown",
      "source": [
        "**Deleting useless columns**"
      ],
      "metadata": {
        "id": "45zf7BMMXlke"
      }
    },
    {
      "cell_type": "code",
      "source": [
        "df = df.drop(['idx','testArgs','lastFailJob','engine','assignee','lastPassJob','projectIdx','validationIdx','templateIdx','triggerIdx','firstFailJob','lastFailJob','silent','status','reportLink'], axis = 1)\n",
        "df_past = df_past.drop(['idx','testArgs','lastFailJob','engine','assignee','lastPassJob','projectIdx','validationIdx','templateIdx','triggerIdx','firstFailJob','lastFailJob','silent','status','reportLink'], axis = 1)"
      ],
      "metadata": {
        "id": "ShUV85zSUcI2"
      },
      "execution_count": 253,
      "outputs": []
    },
    {
      "cell_type": "markdown",
      "source": [
        "**Retrieving the Error Code and Error description**"
      ],
      "metadata": {
        "id": "7XEPBRA3ZITL"
      }
    },
    {
      "cell_type": "code",
      "source": [
        "df_splitted= df['compareInfo'].str.split(pat=',', expand=True)\n",
        "df_splitted = df_splitted.drop([0,1], axis = 1)\n",
        "error_code = df_splitted.iloc[:,0].to_list()\n",
        "error_description = df_splitted.iloc[:,1].to_list()\n",
        "df.insert(5, 'error_description', error_description)\n",
        "df.insert(6,'error_code',error_code)\n",
        "\n",
        "df_splitted_past= df_past['compareInfo'].str.split(pat=',', expand=True)\n",
        "df_splitted_past = df_splitted_past.drop([0,1], axis = 1)\n",
        "error_code = df_splitted_past.iloc[:,0].to_list()\n",
        "error_description = df_splitted_past.iloc[:,1].to_list()\n",
        "df_past.insert(5, 'error_description', error_description)\n",
        "df_past.insert(6,'error_code',error_code)"
      ],
      "metadata": {
        "id": "V39-tkbyXqEE"
      },
      "execution_count": 254,
      "outputs": []
    },
    {
      "cell_type": "markdown",
      "source": [
        "**Deleting redundant columns**"
      ],
      "metadata": {
        "id": "AjkOPsOSCLPa"
      }
    },
    {
      "cell_type": "code",
      "source": [
        "df = df.drop(['compareInfo','reportTitle'], axis = 1)\n",
        "df_past = df_past.drop(['compareInfo','reportTitle'], axis = 1)"
      ],
      "metadata": {
        "id": "A0nXm0semnJS"
      },
      "execution_count": 255,
      "outputs": []
    },
    {
      "cell_type": "markdown",
      "source": [
        "**Convert timestamp in year/month/day**\n",
        "\n",
        "---\n",
        "\n"
      ],
      "metadata": {
        "id": "GbapJ7D1HkUX"
      }
    },
    {
      "cell_type": "code",
      "source": [
        "df['timestamp'] = df['timestamp'].dt.date\n",
        "df_past['timestamp'] = df_past['timestamp'].dt.date\n"
      ],
      "metadata": {
        "id": "-I6KjUEHHq83"
      },
      "execution_count": 256,
      "outputs": []
    },
    {
      "cell_type": "code",
      "source": [
        "print(df.columns)\n",
        "print(df_past.columns)"
      ],
      "metadata": {
        "colab": {
          "base_uri": "https://localhost:8080/"
        },
        "id": "sy4ZJVgaCbRl",
        "outputId": "c19579dc-3729-4d16-a458-3d3bd9a3a5a1"
      },
      "execution_count": 257,
      "outputs": [
        {
          "output_type": "stream",
          "name": "stdout",
          "text": [
            "Index(['testName', 'reportId', 'timestamp', 'error_description', 'error_code'], dtype='object')\n",
            "Index(['testName', 'reportId', 'timestamp', 'error_description', 'error_code'], dtype='object')\n"
          ]
        }
      ]
    },
    {
      "cell_type": "code",
      "source": [
        "df['error_description'] = df['error_description'].fillna('None')\n",
        "df['error_code'] = df['error_code'].fillna('None')\n",
        "#df['error_description'] = df['error_description'].fillna('None')\n"
      ],
      "metadata": {
        "id": "qfrPYgXrBjSA"
      },
      "execution_count": 258,
      "outputs": []
    },
    {
      "cell_type": "code",
      "source": [
        "encoder_df_error_code = LabelEncoder()\n",
        "encoder_df_past_error_code = LabelEncoder()\n",
        "encoder_df_error_description = LabelEncoder()\n",
        "encoder_df_past_error_description = LabelEncoder()\n",
        "\n",
        "df['error_code'] = encoder_df_error_code.fit_transform(df['error_code'])\n",
        "df['error_description'] = encoder_df_error_description.fit_transform(df['error_description'])\n",
        "df_past['error_code'] = encoder_df_past_error_code.fit_transform(df_past['error_code'])\n",
        "df_past['error_description'] = encoder_df_past_error_description.fit_transform(df_past['error_description'])"
      ],
      "metadata": {
        "id": "jy3laBXoDnD_"
      },
      "execution_count": 259,
      "outputs": []
    },
    {
      "cell_type": "code",
      "source": [
        "print(df_past.max())"
      ],
      "metadata": {
        "colab": {
          "base_uri": "https://localhost:8080/"
        },
        "id": "XEY42DD-Dykl",
        "outputId": "6ecf8d96-4840-4c14-ac8e-51c90a554fe5"
      },
      "execution_count": 260,
      "outputs": [
        {
          "output_type": "stream",
          "name": "stdout",
          "text": [
            "testName             test_verification\n",
            "reportId               MNDRACOVAL-9255\n",
            "timestamp                   2022-10-06\n",
            "error_description                   32\n",
            "error_code                          19\n",
            "dtype: object\n"
          ]
        }
      ]
    }
  ],
  "metadata": {
    "colab": {
      "collapsed_sections": [],
      "name": "Welcome To Colaboratory",
      "provenance": [],
      "include_colab_link": true
    },
    "kernelspec": {
      "display_name": "Python 3",
      "name": "python3"
    }
  },
  "nbformat": 4,
  "nbformat_minor": 0
}