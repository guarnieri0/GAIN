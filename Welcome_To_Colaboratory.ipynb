{
  "cells": [
    {
      "cell_type": "markdown",
      "metadata": {
        "id": "view-in-github",
        "colab_type": "text"
      },
      "source": [
        "<a href=\"https://colab.research.google.com/github/guarnieri0/GAIN/blob/master/Welcome_To_Colaboratory.ipynb\" target=\"_parent\"><img src=\"https://colab.research.google.com/assets/colab-badge.svg\" alt=\"Open In Colab\"/></a>"
      ]
    },
    {
      "cell_type": "markdown",
      "source": [
        "**Import librerie**"
      ],
      "metadata": {
        "id": "UjmU-jSZAeY0"
      }
    },
    {
      "cell_type": "code",
      "source": [
        "pip install -U sentence-transformers"
      ],
      "metadata": {
        "id": "0LUerVZa65Oe"
      },
      "execution_count": null,
      "outputs": []
    },
    {
      "cell_type": "code",
      "source": [
        "import pandas as pd \n",
        "import json\n",
        "import datetime\n",
        "from sklearn.preprocessing import LabelEncoder\n",
        "import numpy as np\n",
        "from numpy.linalg import norm\n",
        "from numpy import savetxt\n",
        "from sklearn import preprocessing\n",
        "from openpyxl import Workbook\n",
        "from openpyxl import load_workbook\n",
        "from sentence_transformers import SentenceTransformer, util\n",
        "import torch"
      ],
      "metadata": {
        "id": "-Px-izwgAhwb"
      },
      "execution_count": 17,
      "outputs": []
    },
    {
      "cell_type": "markdown",
      "source": [
        "**Reading Dataset**"
      ],
      "metadata": {
        "id": "oqecAeCuXiSf"
      }
    },
    {
      "cell_type": "code",
      "source": [
        "df = pd.read_json(\"dataset.json\")"
      ],
      "metadata": {
        "id": "46o0MVpXSBGF"
      },
      "execution_count": null,
      "outputs": []
    },
    {
      "cell_type": "markdown",
      "source": [
        "**Deleting useless columns**"
      ],
      "metadata": {
        "id": "45zf7BMMXlke"
      }
    },
    {
      "cell_type": "code",
      "source": [
        "df = df.drop(['idx','testArgs','lastFailJob','engine','assignee','lastPassJob','projectIdx','validationIdx','templateIdx','triggerIdx','firstFailJob','lastFailJob','silent','status','reportLink'], axis = 1)\n"
      ],
      "metadata": {
        "id": "ShUV85zSUcI2"
      },
      "execution_count": null,
      "outputs": []
    },
    {
      "cell_type": "markdown",
      "source": [
        "**Retrieving the Error Code and Error description**"
      ],
      "metadata": {
        "id": "7XEPBRA3ZITL"
      }
    },
    {
      "cell_type": "code",
      "source": [
        "df_splitted= df['compareInfo'].str.split(pat=',', expand=True)\n",
        "df_splitted = df_splitted.drop([0,1], axis = 1)\n",
        "error_code = df_splitted.iloc[:,0].to_list()\n",
        "error_description = df_splitted.iloc[:,1].to_list()\n",
        "df.insert(5, 'error_description', error_description)\n",
        "df.insert(6,'error_code',error_code)\n",
        "\n"
      ],
      "metadata": {
        "id": "V39-tkbyXqEE"
      },
      "execution_count": null,
      "outputs": []
    },
    {
      "cell_type": "markdown",
      "source": [
        "**Retrieving the test category**"
      ],
      "metadata": {
        "id": "dTyIW0R3zxkT"
      }
    },
    {
      "cell_type": "code",
      "source": [
        "testname_splitted = df['testName'].str.split(pat='\\\\', expand = True)\n",
        "testname_splitted = testname_splitted.drop([0,1,2,4,5], axis = 1)\n",
        "testname = testname_splitted.iloc[:,0].to_list()\n",
        "df.insert(7,'cat_name', testname)\n",
        "\n"
      ],
      "metadata": {
        "id": "qsgBWSG2zweR"
      },
      "execution_count": null,
      "outputs": []
    },
    {
      "cell_type": "markdown",
      "source": [
        "**Deleting redundant columns**"
      ],
      "metadata": {
        "id": "AjkOPsOSCLPa"
      }
    },
    {
      "cell_type": "code",
      "source": [
        "df = df.drop(['compareInfo','reportTitle'], axis = 1)"
      ],
      "metadata": {
        "id": "A0nXm0semnJS"
      },
      "execution_count": null,
      "outputs": []
    },
    {
      "cell_type": "markdown",
      "source": [
        "**Filling the NULL value**\n",
        "\n",
        "---"
      ],
      "metadata": {
        "id": "4RmUPD7Qz-mn"
      }
    },
    {
      "cell_type": "code",
      "source": [
        "df['error_description'] = df['error_description'].fillna('None')\n",
        "df['error_code'] = df['error_code'].fillna('None')\n"
      ],
      "metadata": {
        "id": "qfrPYgXrBjSA"
      },
      "execution_count": null,
      "outputs": []
    },
    {
      "cell_type": "markdown",
      "source": [
        "**Encoding text features**"
      ],
      "metadata": {
        "id": "Gi-w8jDC0NtJ"
      }
    },
    {
      "cell_type": "code",
      "source": [
        "encoder_df_error_code = LabelEncoder()\n",
        "encoder_df_error_description = LabelEncoder()\n",
        "encoder_df_cat_name = LabelEncoder()\n",
        "df['error_code'] = encoder_df_error_code.fit_transform(df['error_code'])\n",
        "df['error_description'] = encoder_df_error_description.fit_transform(df['error_description'])\n",
        "df['cat_name'] = encoder_df_cat_name.fit_transform(df['cat_name'])\n",
        "\n"
      ],
      "metadata": {
        "id": "jy3laBXoDnD_"
      },
      "execution_count": null,
      "outputs": []
    },
    {
      "cell_type": "markdown",
      "source": [
        "**This print gives the results of the encoding**"
      ],
      "metadata": {
        "id": "6YRSlpk6zQbb"
      }
    },
    {
      "cell_type": "code",
      "source": [
        "print(df.max())"
      ],
      "metadata": {
        "id": "FiSUUJizsf3y",
        "outputId": "be7cae90-10e6-462a-af39-14884375b8ff",
        "colab": {
          "base_uri": "https://localhost:8080/"
        }
      },
      "execution_count": null,
      "outputs": [
        {
          "output_type": "stream",
          "name": "stdout",
          "text": [
            "testName               test_verification\n",
            "reportId               MNDORADOVAL-31553\n",
            "timestamp            2022-10-10 02:26:24\n",
            "error_description                     17\n",
            "error_code                            21\n",
            "cat_name                              75\n",
            "dtype: object\n"
          ]
        }
      ]
    },
    {
      "cell_type": "markdown",
      "source": [
        "**Divide in two datasets (one of \"training\" and one of testing), (training : before today, testing : today)**"
      ],
      "metadata": {
        "id": "LirQJlJszcxV"
      }
    },
    {
      "cell_type": "code",
      "source": [
        "ts =  pd.Timestamp(year = 2022, month = 10, day = 9, hour =0 , second = 0)\n",
        "df_past = df.loc[lambda df: df['timestamp'] < ts]\n",
        "df = df.drop(df[df.timestamp < ts].index)"
      ],
      "metadata": {
        "id": "poXfhlymK2bd"
      },
      "execution_count": null,
      "outputs": []
    },
    {
      "cell_type": "markdown",
      "source": [
        "**Deleting time from timestamp (only date)**"
      ],
      "metadata": {
        "id": "CTYGkzt8zx5o"
      }
    },
    {
      "cell_type": "code",
      "source": [
        "df['timestamp'] = df['timestamp'].dt.date\n",
        "df_past['timestamp'] = df_past['timestamp'].dt.date\n"
      ],
      "metadata": {
        "id": "Oh6NSAywLJNh"
      },
      "execution_count": null,
      "outputs": []
    },
    {
      "cell_type": "markdown",
      "source": [
        "# **Calculate the similarity matrix**"
      ],
      "metadata": {
        "id": "Ba_k-Gq-0We8"
      }
    },
    {
      "cell_type": "code",
      "source": [
        "similarity = np.empty((df_past.shape[0],df.shape[0]))\n",
        "for i in range (0,df_past.shape[0],1):\n",
        "  for j in range (0, df.shape[0],1):  \n",
        "    past_vector = np.array([df_past.iloc[i][3],df_past.iloc[i][4],df_past.iloc[i][5]])\n",
        "    today_vector = np.array([df.iloc[j][3],df.iloc[j][4],df.iloc[j][5]])\n",
        "    #cosin similarity\n",
        "    similarity[i,j] = np.dot(past_vector,today_vector)/(norm(past_vector)*norm(today_vector))"
      ],
      "metadata": {
        "id": "XEY42DD-Dykl"
      },
      "execution_count": null,
      "outputs": []
    },
    {
      "cell_type": "markdown",
      "source": [
        "# **Decoding the features**"
      ],
      "metadata": {
        "id": "aPD2Thqm0xSe"
      }
    },
    {
      "cell_type": "code",
      "source": [
        "df['error_code'] = encoder_df_error_code.inverse_transform(df['error_code'])\n",
        "df['error_description'] = encoder_df_error_description.inverse_transform(df['error_description'])\n",
        "df['cat_name'] = encoder_df_cat_name.inverse_transform(df['cat_name'])"
      ],
      "metadata": {
        "id": "moRfTrLP0wAn"
      },
      "execution_count": null,
      "outputs": []
    },
    {
      "cell_type": "markdown",
      "source": [
        "# **Saving the test set**"
      ],
      "metadata": {
        "id": "2GREe_uC1E-I"
      }
    },
    {
      "cell_type": "code",
      "source": [
        "df.to_excel('Matches.xlsx', sheet_name='Sightings Tested')"
      ],
      "metadata": {
        "id": "-RFeaQJxsgqm"
      },
      "execution_count": null,
      "outputs": []
    },
    {
      "cell_type": "markdown",
      "source": [
        "# **Reporting the results obtained into the same file**"
      ],
      "metadata": {
        "id": "VVYIfdsX1SZt"
      }
    },
    {
      "cell_type": "code",
      "source": [
        "wb = load_workbook('Matches.xlsx')\n",
        "ws1 = wb['Sightings Tested']\n",
        "for i in range(0,similarity.shape[1],1):\n",
        "  best_match_array = np.where(similarity[:,i] == np.amax(similarity[:,i]))\n",
        "  best_match = best_match_array[0]\n",
        "  for j in range(0,len(best_match),1):\n",
        "     ws1.cell(i+2,j+8).value = df_past.iloc[best_match[j]][1]\n",
        "wb.save('Matches.xlsx')"
      ],
      "metadata": {
        "id": "8D4pL7P-uV4t"
      },
      "execution_count": null,
      "outputs": []
    },
    {
      "cell_type": "markdown",
      "source": [
        "# Root cause Text Analysis"
      ],
      "metadata": {
        "id": "kzRPgxDJ1Ila"
      }
    },
    {
      "cell_type": "code",
      "source": [
        "pip install --upgrade xlrd"
      ],
      "metadata": {
        "id": "O_xH7CXI2b2O",
        "outputId": "84343021-e89c-4dc2-d15c-9d09a45eae7a",
        "colab": {
          "base_uri": "https://localhost:8080/"
        }
      },
      "execution_count": 18,
      "outputs": [
        {
          "output_type": "stream",
          "name": "stdout",
          "text": [
            "Looking in indexes: https://pypi.org/simple, https://us-python.pkg.dev/colab-wheels/public/simple/\n",
            "Requirement already satisfied: xlrd in /usr/local/lib/python3.7/dist-packages (2.0.1)\n"
          ]
        }
      ]
    },
    {
      "cell_type": "code",
      "source": [
        "rcdf = pd.read_excel(\"/content/Error_with_RootCause.xls\", index_col = 1)\n",
        "rcdf.reset_index(inplace = True)"
      ],
      "metadata": {
        "id": "zFAsv-2r1GaX"
      },
      "execution_count": 19,
      "outputs": []
    },
    {
      "cell_type": "code",
      "source": [
        "rcdf.columns"
      ],
      "metadata": {
        "id": "2nceOwk32vmI",
        "outputId": "d15757f8-3da7-41c1-86c6-c77e36597718",
        "colab": {
          "base_uri": "https://localhost:8080/"
        }
      },
      "execution_count": 20,
      "outputs": [
        {
          "output_type": "execute_result",
          "data": {
            "text/plain": [
              "Index(['errorcodeid', 'tfdid', 'description', 'details'], dtype='object')"
            ]
          },
          "metadata": {},
          "execution_count": 20
        }
      ]
    },
    {
      "cell_type": "code",
      "source": [
        "model = SentenceTransformer('sentence-transformers/distiluse-base-multilingual-cased-v2')"
      ],
      "metadata": {
        "id": "Z-9-cd6y3BDW"
      },
      "execution_count": 21,
      "outputs": []
    },
    {
      "cell_type": "code",
      "source": [
        "device = torch.device('cuda:0')\n",
        "model = model.to(device)"
      ],
      "metadata": {
        "id": "XkAp1md5yTzi"
      },
      "execution_count": 22,
      "outputs": []
    },
    {
      "cell_type": "code",
      "source": [
        "print(rcdf.shape)\n",
        "rcdf.dropna(how = 'any', inplace= True)\n",
        "print(rcdf.shape)"
      ],
      "metadata": {
        "id": "BQhiDu7gEOi9",
        "outputId": "27f356d8-0e8c-46ff-c4f4-5cc621ba3664",
        "colab": {
          "base_uri": "https://localhost:8080/"
        }
      },
      "execution_count": 23,
      "outputs": [
        {
          "output_type": "stream",
          "name": "stdout",
          "text": [
            "(65535, 4)\n",
            "(4238, 4)\n"
          ]
        }
      ]
    },
    {
      "cell_type": "code",
      "source": [
        "rcdf_past = rcdf.iloc[0:200]\n",
        "print(rcdf_past)\n",
        "rcdf = rcdf.iloc[200:]\n",
        "print(rcdf)"
      ],
      "metadata": {
        "id": "fHFYlUyc7jDU"
      },
      "execution_count": null,
      "outputs": []
    },
    {
      "cell_type": "code",
      "source": [
        "rcdf.shape\n",
        "rcdf_past.shape\n",
        "simil_mat = np.empty((rcdf_past.shape[0],rcdf.shape[0]))"
      ],
      "metadata": {
        "id": "Imp-ejaqjWRH"
      },
      "execution_count": 25,
      "outputs": []
    },
    {
      "cell_type": "code",
      "source": [
        "for i in range (0,rcdf_past.shape[0],1):\n",
        "  for j in range (0, rcdf.shape[0],1):\n",
        "    vector_sentences = [rcdf.iloc[j][3],rcdf_past.iloc[i][3]]\n",
        "    embeddings = model.encode(vector_sentences)\n",
        "    cosine_scores = util.cos_sim(embeddings[0],embeddings[1])\n",
        "    simil_mat[i][j] = cosine_scores[0,0].numpy()\n"
      ],
      "metadata": {
        "id": "VL7bbv3s87LI"
      },
      "execution_count": null,
      "outputs": []
    },
    {
      "cell_type": "code",
      "source": [
        "print(simil_mat)"
      ],
      "metadata": {
        "id": "RJfZ1tt-8yZ3"
      },
      "execution_count": 34,
      "outputs": []
    },
    {
      "cell_type": "code",
      "source": [
        "print(embeddings.shape)"
      ],
      "metadata": {
        "id": "-fAXo9D39DA0",
        "outputId": "12d4b9ca-3237-42ca-8249-7265a36cfb45",
        "colab": {
          "base_uri": "https://localhost:8080/"
        }
      },
      "execution_count": 35,
      "outputs": [
        {
          "output_type": "stream",
          "name": "stdout",
          "text": [
            "(3, 512)\n"
          ]
        }
      ]
    },
    {
      "cell_type": "code",
      "source": [
        "cosine_scores_1_2 = util.cos_sim(embeddings[0],embeddings[1])\n",
        "cosine_scores_1_3 = util.cos_sim(embeddings[0],embeddings[2])"
      ],
      "metadata": {
        "id": "LSVlBO769GM_"
      },
      "execution_count": null,
      "outputs": []
    },
    {
      "cell_type": "code",
      "source": [
        "print(cosine_scores_1_2)\n",
        "print(cosine_scores_1_3)"
      ],
      "metadata": {
        "id": "qrY_xYTB9RBk",
        "outputId": "e33a70dc-d491-49d3-c01b-44d07b3951b6",
        "colab": {
          "base_uri": "https://localhost:8080/"
        }
      },
      "execution_count": 38,
      "outputs": [
        {
          "output_type": "stream",
          "name": "stdout",
          "text": [
            "tensor([[0.9873]])\n",
            "tensor([[0.3400]])\n"
          ]
        }
      ]
    },
    {
      "cell_type": "code",
      "source": [
        "cosine_scores_1_2.shape"
      ],
      "metadata": {
        "id": "yOorJEFmltqM",
        "outputId": "507cd89d-81c3-423a-9504-4415738bbab0",
        "colab": {
          "base_uri": "https://localhost:8080/"
        }
      },
      "execution_count": 78,
      "outputs": [
        {
          "output_type": "execute_result",
          "data": {
            "text/plain": [
              "torch.Size([1, 1])"
            ]
          },
          "metadata": {},
          "execution_count": 78
        }
      ]
    },
    {
      "cell_type": "code",
      "source": [
        "a = cosine_scores_1_2[0,0].numpy()\n",
        "print(a)"
      ],
      "metadata": {
        "id": "2TZL0XcGlilf",
        "outputId": "85f82637-f113-4661-f41c-aa9701b4adef",
        "colab": {
          "base_uri": "https://localhost:8080/"
        }
      },
      "execution_count": 81,
      "outputs": [
        {
          "output_type": "stream",
          "name": "stdout",
          "text": [
            "0.9872546\n"
          ]
        }
      ]
    }
  ],
  "metadata": {
    "colab": {
      "collapsed_sections": [],
      "name": "Welcome To Colaboratory",
      "provenance": [],
      "include_colab_link": true
    },
    "kernelspec": {
      "display_name": "Python 3",
      "name": "python3"
    },
    "accelerator": "GPU"
  },
  "nbformat": 4,
  "nbformat_minor": 0
}