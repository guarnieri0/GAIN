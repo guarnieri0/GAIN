{
  "cells": [
    {
      "cell_type": "markdown",
      "metadata": {
        "id": "view-in-github",
        "colab_type": "text"
      },
      "source": [
        "<a href=\"https://colab.research.google.com/github/guarnieri0/GAIN/blob/master/Welcome_To_Colaboratory.ipynb\" target=\"_parent\"><img src=\"https://colab.research.google.com/assets/colab-badge.svg\" alt=\"Open In Colab\"/></a>"
      ]
    },
    {
      "cell_type": "markdown",
      "source": [
        "**Import librerie**"
      ],
      "metadata": {
        "id": "UjmU-jSZAeY0"
      }
    },
    {
      "cell_type": "code",
      "source": [
        "import pandas as pd \n",
        "\n",
        "import json\n",
        "import datetime\n",
        "from sklearn.preprocessing import LabelEncoder\n",
        "import numpy as np\n",
        "from numpy.linalg import norm\n",
        "from numpy import savetxt\n",
        "from sklearn import preprocessing"
      ],
      "metadata": {
        "id": "-Px-izwgAhwb"
      },
      "execution_count": 24,
      "outputs": []
    },
    {
      "cell_type": "markdown",
      "source": [
        "**Reading Dataset**"
      ],
      "metadata": {
        "id": "oqecAeCuXiSf"
      }
    },
    {
      "cell_type": "code",
      "source": [
        "df = pd.read_json(\"dataset.json\")\n",
        "#df_past = pd.read_json(\"past_dataset.json\")"
      ],
      "metadata": {
        "id": "46o0MVpXSBGF"
      },
      "execution_count": 25,
      "outputs": []
    },
    {
      "cell_type": "markdown",
      "source": [
        "**Deleting useless columns**"
      ],
      "metadata": {
        "id": "45zf7BMMXlke"
      }
    },
    {
      "cell_type": "code",
      "source": [
        "df = df.drop(['idx','testArgs','lastFailJob','engine','assignee','lastPassJob','projectIdx','validationIdx','templateIdx','triggerIdx','firstFailJob','lastFailJob','silent','status','reportLink'], axis = 1)\n",
        "#df_past = df_past.drop(['idx','testArgs','lastFailJob','engine','assignee','lastPassJob','projectIdx','validationIdx','templateIdx','triggerIdx','firstFailJob','lastFailJob','silent','status','reportLink'], axis = 1)"
      ],
      "metadata": {
        "id": "ShUV85zSUcI2"
      },
      "execution_count": 26,
      "outputs": []
    },
    {
      "cell_type": "code",
      "source": [],
      "metadata": {
        "id": "lSE3NMTJJ8Hg"
      },
      "execution_count": null,
      "outputs": []
    },
    {
      "cell_type": "code",
      "source": [
        "#print(df_past)\n",
        "print(df)"
      ],
      "metadata": {
        "id": "SC6OXpdwyzVg"
      },
      "execution_count": null,
      "outputs": []
    },
    {
      "cell_type": "markdown",
      "source": [
        "**Retrieving the Error Code and Error description**"
      ],
      "metadata": {
        "id": "7XEPBRA3ZITL"
      }
    },
    {
      "cell_type": "code",
      "source": [
        "df_splitted= df['compareInfo'].str.split(pat=',', expand=True)\n",
        "df_splitted = df_splitted.drop([0,1], axis = 1)\n",
        "error_code = df_splitted.iloc[:,0].to_list()\n",
        "error_description = df_splitted.iloc[:,1].to_list()\n",
        "df.insert(5, 'error_description', error_description)\n",
        "df.insert(6,'error_code',error_code)\n",
        "\n",
        "\"\"\"df_splitted_past= df_past['compareInfo'].str.split(pat=',', expand=True)\n",
        "df_splitted_past = df_splitted_past.drop([0,1], axis = 1)\n",
        "error_code = df_splitted_past.iloc[:,0].to_list()\n",
        "error_description = df_splitted_past.iloc[:,1].to_list()\n",
        "df_past.insert(5, 'error_description', error_description)\n",
        "df_past.insert(6,'error_code',error_code)\"\"\""
      ],
      "metadata": {
        "id": "V39-tkbyXqEE"
      },
      "execution_count": null,
      "outputs": []
    },
    {
      "cell_type": "markdown",
      "source": [
        "**Retrieving the test category**"
      ],
      "metadata": {
        "id": "dTyIW0R3zxkT"
      }
    },
    {
      "cell_type": "code",
      "source": [
        "testname_splitted = df['testName'].str.split(pat='\\\\', expand = True)\n",
        "testname_splitted = testname_splitted.drop([0,1,2,4,5], axis = 1)\n",
        "print(testname_splitted)\n",
        "testname = testname_splitted.iloc[:,0].to_list()\n",
        "df.insert(7,'cat_name', testname)\n",
        "print(df)\n",
        "\n",
        "\"\"\"testname_past_splitted = df_past['testName'].str.split(pat='\\\\', expand = True)\n",
        "testname_past_splitted = testname_past_splitted.drop([0,1,2,4,5], axis = 1)\n",
        "print(testname_past_splitted)\n",
        "testname = testname_past_splitted.iloc[:,0].to_list()\n",
        "df_past.insert(7,'cat_name', testname)\n",
        "print(df_past)\"\"\"\n"
      ],
      "metadata": {
        "id": "qsgBWSG2zweR"
      },
      "execution_count": null,
      "outputs": []
    },
    {
      "cell_type": "markdown",
      "source": [
        "**Deleting redundant columns**"
      ],
      "metadata": {
        "id": "AjkOPsOSCLPa"
      }
    },
    {
      "cell_type": "code",
      "source": [
        "df = df.drop(['compareInfo','reportTitle'], axis = 1)\n",
        "#df_past = df_past.drop(['compareInfo','reportTitle'], axis = 1)"
      ],
      "metadata": {
        "id": "A0nXm0semnJS"
      },
      "execution_count": 30,
      "outputs": []
    },
    {
      "cell_type": "code",
      "source": [
        "print(df.columns)\n"
      ],
      "metadata": {
        "colab": {
          "base_uri": "https://localhost:8080/"
        },
        "id": "sy4ZJVgaCbRl",
        "outputId": "d10a83cd-1f48-4b12-cd5b-6b5dc746f9b8"
      },
      "execution_count": 31,
      "outputs": [
        {
          "output_type": "stream",
          "name": "stdout",
          "text": [
            "Index(['testName', 'reportId', 'timestamp', 'error_description', 'error_code',\n",
            "       'cat_name'],\n",
            "      dtype='object')\n"
          ]
        }
      ]
    },
    {
      "cell_type": "markdown",
      "source": [
        "**Filling the NULL value**\n",
        "\n",
        "---"
      ],
      "metadata": {
        "id": "4RmUPD7Qz-mn"
      }
    },
    {
      "cell_type": "code",
      "source": [
        "df['error_description'] = df['error_description'].fillna('None')\n",
        "df['error_code'] = df['error_code'].fillna('None')\n",
        "#df['error_description'] = df['error_description'].fillna('None')\n"
      ],
      "metadata": {
        "id": "qfrPYgXrBjSA"
      },
      "execution_count": 32,
      "outputs": []
    },
    {
      "cell_type": "markdown",
      "source": [
        "**Encoding text features**"
      ],
      "metadata": {
        "id": "Gi-w8jDC0NtJ"
      }
    },
    {
      "cell_type": "code",
      "source": [
        "encoder_df_error_code = LabelEncoder()\n",
        "encoder_df_error_description = LabelEncoder()\n",
        "encoder_df_cat_name = LabelEncoder()\n",
        "\n",
        "\n",
        "\n",
        "df['error_code'] = encoder_df_error_code.fit_transform(df['error_code'])\n",
        "df['error_description'] = encoder_df_error_description.fit_transform(df['error_description'])\n",
        "df['cat_name'] = encoder_df_cat_name.fit_transform(df['cat_name'])\n",
        "\n",
        "\"\"\"df_past['error_code'] = encoder_df_error_code.fit_transform(df_past['error_code'])\n",
        "df_past['error_description'] = encoder_df_error_description.fit_transform(df_past['error_description'])\n",
        "df_past['cat_name'] = encoder_df_cat_name.fit_transform(df_past['cat_name'])\"\"\""
      ],
      "metadata": {
        "id": "jy3laBXoDnD_",
        "outputId": "95d32a2a-03cb-47e5-b193-e932a4e66c74",
        "colab": {
          "base_uri": "https://localhost:8080/",
          "height": 55
        }
      },
      "execution_count": 33,
      "outputs": [
        {
          "output_type": "execute_result",
          "data": {
            "text/plain": [
              "\"df_past['error_code'] = encoder_df_error_code.fit_transform(df_past['error_code'])\\ndf_past['error_description'] = encoder_df_error_description.fit_transform(df_past['error_description'])\\ndf_past['cat_name'] = encoder_df_cat_name.fit_transform(df_past['cat_name'])\""
            ],
            "application/vnd.google.colaboratory.intrinsic+json": {
              "type": "string"
            }
          },
          "metadata": {},
          "execution_count": 33
        }
      ]
    },
    {
      "cell_type": "code",
      "source": [
        "print(df.max())"
      ],
      "metadata": {
        "id": "FiSUUJizsf3y",
        "outputId": "8e1193b3-4409-40d8-e61d-ad9f943749ad",
        "colab": {
          "base_uri": "https://localhost:8080/"
        }
      },
      "execution_count": 34,
      "outputs": [
        {
          "output_type": "stream",
          "name": "stdout",
          "text": [
            "testName               test_verification\n",
            "reportId               MNDORADOVAL-31553\n",
            "timestamp            2022-10-10 02:26:24\n",
            "error_description                      8\n",
            "error_code                            13\n",
            "cat_name                              44\n",
            "dtype: object\n"
          ]
        }
      ]
    },
    {
      "cell_type": "code",
      "source": [
        "ts =  pd.Timestamp(year = 2022, month = 10, day = 9, hour =0 , second = 0)\n",
        "df_past = df.loc[lambda df: df['timestamp'] < ts]\n",
        "df = df.drop(df[df.timestamp < ts].index)"
      ],
      "metadata": {
        "id": "poXfhlymK2bd"
      },
      "execution_count": 35,
      "outputs": []
    },
    {
      "cell_type": "code",
      "source": [
        "df['timestamp'] = df['timestamp'].dt.date\n",
        "df_past['timestamp'] = df_past['timestamp'].dt.date\n"
      ],
      "metadata": {
        "id": "Oh6NSAywLJNh"
      },
      "execution_count": 36,
      "outputs": []
    },
    {
      "cell_type": "code",
      "source": [
        "print(df)\n",
        "print(df_past)"
      ],
      "metadata": {
        "id": "YAQrjy0oLke-",
        "outputId": "c7fdae50-afb2-4aa3-e33b-59a64f951331",
        "colab": {
          "base_uri": "https://localhost:8080/"
        }
      },
      "execution_count": 46,
      "outputs": [
        {
          "output_type": "stream",
          "name": "stdout",
          "text": [
            "                                             testName           reportId  \\\n",
            "0   \\TestSuite\\Dorado\\PPTRecovery\\PPTRecoveryTest_...  MNDORADOVAL-31553   \n",
            "1   \\TestSuite\\Dorado\\PPTRecovery\\PPTRecoveryTest_...  MNDORADOVAL-31552   \n",
            "2   \\TestSuite\\Generic\\VoltageDetect\\BO_11_VDTonIn...  MNDORADOVAL-31543   \n",
            "3   \\TestSuite\\Generic\\VoltageDetect\\BO_10_VDTonWr...  MNDORADOVAL-31542   \n",
            "4   \\TestSuite\\Generic\\VoltageDetect\\BO_12_VDTonId...  MNDORADOVAL-31541   \n",
            "..                                                ...                ...   \n",
            "78  \\TestSuite\\Dorado\\SSR_EHR\\EHR_05_ProgramFail_N...  MNDORADOVAL-31467   \n",
            "79  \\TestSuite\\Dorado\\SSR_EHR\\SSR_11_EraseFail_OnM...  MNDORADOVAL-31466   \n",
            "80  \\TestSuite\\Dorado\\SSR_EHR\\XMHR_03_ProgramFail_...  MNDORADOVAL-31465   \n",
            "81  \\TestSuite\\Dorado\\SSR_EHR\\EHR_03_EraseFail_Not...  MNDORADOVAL-31464   \n",
            "82  \\TestSuite\\Dorado\\ShareBuffer\\ShareReadBuf\\Sha...  MNDORADOVAL-31463   \n",
            "\n",
            "     timestamp  error_description  error_code  cat_name  \n",
            "0   2022-10-10                  4           5        21  \n",
            "1   2022-10-10                  4           5        21  \n",
            "2   2022-10-09                  6           1        39  \n",
            "3   2022-10-09                  6           7        39  \n",
            "4   2022-10-09                  6           7        39  \n",
            "..         ...                ...         ...       ...  \n",
            "78  2022-10-09                  0           6        32  \n",
            "79  2022-10-09                  0           6        32  \n",
            "80  2022-10-09                  0           6        32  \n",
            "81  2022-10-09                  0           6        32  \n",
            "82  2022-10-09                  0           0        34  \n",
            "\n",
            "[83 rows x 6 columns]\n",
            "                                              testName           reportId  \\\n",
            "83   \\TestSuite\\Dorado\\MC\\MC_05_SingleBinaryDieCoun...  MNDORADOVAL-31462   \n",
            "84   \\TestSuite\\DoradoAuto\\MediaErrorHandling\\E2E\\E...  MNDORADOVAL-31459   \n",
            "85        \\TestSuite\\DoradoAuto\\SER\\SER_01_ScanSRAM.py  MNDORADOVAL-31458   \n",
            "86        \\TestSuite\\DoradoAuto\\SER\\SER_01_ScanSRAM.py  MNDORADOVAL-31457   \n",
            "87        \\TestSuite\\DoradoAuto\\SER\\SER_01_ScanSRAM.py  MNDORADOVAL-31456   \n",
            "..                                                 ...                ...   \n",
            "195  \\TestSuite\\MultiProduct\\HPB\\HPB_26_HostMode_Mi...  MNDORADOVAL-29800   \n",
            "196  \\TestSuite\\DoradoAuto\\MediaErrorHandling\\RAIN\\...  MNDORADOVAL-29799   \n",
            "197  \\TestSuite\\Dorado\\PPTRecovery\\PPTRecoveryTest_...  MNDORADOVAL-29798   \n",
            "198  \\TestSuite\\DoradoAuto\\MediaErrorHandling\\RAIN\\...  MNDORADOVAL-29797   \n",
            "199  \\TestSuite\\DoradoAuto\\Performance\\No_BKOPS_Dur...  MNDORADOVAL-29796   \n",
            "\n",
            "      timestamp  error_description  error_code  cat_name  \n",
            "83   2022-10-08                  0           1        14  \n",
            "84   2022-10-07                  0           6        19  \n",
            "85   2022-10-07                  0           6        31  \n",
            "86   2022-10-07                  0           6        31  \n",
            "87   2022-10-07                  0           6        31  \n",
            "..          ...                ...         ...       ...  \n",
            "195  2022-08-02                  0           3         8  \n",
            "196  2022-08-02                  0           6        19  \n",
            "197  2022-08-02                  4           5        21  \n",
            "198  2022-08-02                  0           6        19  \n",
            "199  2022-08-02                  0           6        23  \n",
            "\n",
            "[117 rows x 6 columns]\n"
          ]
        }
      ]
    },
    {
      "cell_type": "markdown",
      "source": [
        "**Calculate the similarity matrix**"
      ],
      "metadata": {
        "id": "Ba_k-Gq-0We8"
      }
    },
    {
      "cell_type": "code",
      "source": [
        "similarity = np.empty((df_past.shape[0],df.shape[0]))\n",
        "for i in range (0,df_past.shape[0],1):\n",
        "  for j in range (0, df.shape[0],1):\n",
        "   \n",
        "    past_vector = np.array([df_past.iloc[i][3],df_past.iloc[i][4],df_past.iloc[i][5]])\n",
        "    today_vector = np.array([df.iloc[j][3],df.iloc[j][4],df.iloc[j][5]])\n",
        "    print(today_vector)\n",
        "\n",
        "    #normalized_past_arr = preprocessing.normalize(past_vector)\n",
        "    #normalized_today_arr = preprocessing.normalize(today_vector)\n",
        "    \n",
        "    #print(normalized_past_arr)\n",
        "    #print(normalized_today_arr)\n",
        "    #cosin similarity\n",
        "    similarity[i,j] = np.dot(past_vector,today_vector)/(norm(past_vector)*norm(today_vector))\n",
        "  "
      ],
      "metadata": {
        "id": "XEY42DD-Dykl"
      },
      "execution_count": null,
      "outputs": []
    },
    {
      "cell_type": "code",
      "source": [
        "print(similarity)"
      ],
      "metadata": {
        "id": "HNKbncSqq7Kq",
        "outputId": "dd3b21a2-76e4-4c36-d343-1d327e29b3ea",
        "colab": {
          "base_uri": "https://localhost:8080/"
        }
      },
      "execution_count": 40,
      "outputs": [
        {
          "output_type": "stream",
          "name": "stdout",
          "text": [
            "[[0.97031905 0.97031905 0.98734854 ... 0.99350443 0.99350443 0.9974587 ]\n",
            " [0.98070529 0.98070529 0.94982068 ... 0.99274494 0.99274494 0.95358267]\n",
            " [0.98237209 0.98237209 0.97486611 ... 0.99998297 0.99998297 0.98177985]\n",
            " ...\n",
            " [1.         1.         0.97856258 ... 0.98211119 0.98211119 0.95652379]\n",
            " [0.98070529 0.98070529 0.94982068 ... 0.99274494 0.99274494 0.95358267]\n",
            " [0.98303645 0.98303645 0.9624536  ... 0.99756257 0.99756257 0.96761727]]\n"
          ]
        }
      ]
    },
    {
      "cell_type": "code",
      "source": [
        "print(similarity.shape)"
      ],
      "metadata": {
        "id": "4aMwnc-nOZ1e",
        "outputId": "fe1de446-a702-42ab-fea7-9fa663790cf1",
        "colab": {
          "base_uri": "https://localhost:8080/"
        }
      },
      "execution_count": 45,
      "outputs": [
        {
          "output_type": "stream",
          "name": "stdout",
          "text": [
            "(117, 83)\n"
          ]
        }
      ]
    },
    {
      "cell_type": "code",
      "source": [
        "savetxt('data.csv', similarity, delimiter = ',')"
      ],
      "metadata": {
        "id": "oPr8yqectC27"
      },
      "execution_count": 42,
      "outputs": []
    },
    {
      "cell_type": "code",
      "source": [
        "#max_position=np.amax(similarity.iloc[],axis = 0)\n",
        "#print(max_position)\n",
        "res = np.where(similarity[:,3] == np.amax(similarity[:,3]))\n",
        "print(res)\n",
        "\n",
        "\n",
        "#for i in res:\n",
        "#  print(df_past.iloc[i])\n",
        "#print(df)"
      ],
      "metadata": {
        "id": "_op8cuZ-t8pt",
        "outputId": "86ec5413-3e31-4d2f-a534-d237a1743bf1",
        "colab": {
          "base_uri": "https://localhost:8080/"
        }
      },
      "execution_count": 54,
      "outputs": [
        {
          "output_type": "stream",
          "name": "stdout",
          "text": [
            "(array([ 7,  9, 13, 14, 15, 18, 19, 21, 22, 23, 24, 28, 30]),)\n"
          ]
        }
      ]
    },
    {
      "cell_type": "code",
      "source": [
        "print(df.iloc[3][:])\n",
        "\n",
        "print(df_past.iloc[28][:])"
      ],
      "metadata": {
        "id": "4DccR72WPCYl",
        "outputId": "ff690002-f81a-44d5-f58c-7cfb9846ba3e",
        "colab": {
          "base_uri": "https://localhost:8080/"
        }
      },
      "execution_count": 56,
      "outputs": [
        {
          "output_type": "stream",
          "name": "stdout",
          "text": [
            "testName             \\TestSuite\\Generic\\VoltageDetect\\BO_10_VDTonWr...\n",
            "reportId                                             MNDORADOVAL-31542\n",
            "timestamp                                                   2022-10-09\n",
            "error_description                                                    6\n",
            "error_code                                                           7\n",
            "cat_name                                                            39\n",
            "Name: 3, dtype: object\n",
            "testName             \\TestSuite\\Generic\\VoltageDetect\\VDT_10_WriteW...\n",
            "reportId                                             MNDORADOVAL-31417\n",
            "timestamp                                                   2022-10-05\n",
            "error_description                                                    6\n",
            "error_code                                                           7\n",
            "cat_name                                                            39\n",
            "Name: 111, dtype: object\n"
          ]
        }
      ]
    }
  ],
  "metadata": {
    "colab": {
      "collapsed_sections": [],
      "name": "Welcome To Colaboratory",
      "provenance": [],
      "include_colab_link": true
    },
    "kernelspec": {
      "display_name": "Python 3",
      "name": "python3"
    }
  },
  "nbformat": 4,
  "nbformat_minor": 0
}